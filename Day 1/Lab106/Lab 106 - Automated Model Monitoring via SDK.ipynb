{
 "cells": [
  {
   "cell_type": "markdown",
   "metadata": {},
   "source": [
    "<img src=\"https://github.com/pmservice/ai-openscale-tutorials/raw/master/notebooks/images/banner.png\" align=\"left\" alt=\"banner\">"
   ]
  },
  {
   "cell_type": "markdown",
   "metadata": {},
   "source": [
    "# Working with Watson Machine Learning"
   ]
  },
  {
   "cell_type": "markdown",
   "metadata": {},
   "source": [
    "This notebook should be run in a Watson Studio project, using **IBM Runtime 23.1 on Python 3.10 XS** runtime environment. **If you are viewing this in Watson Studio and do not see the required runtime env in the upper right corner of your screen, please update the runtime now.** It requires service credentials for the following Cloud services:\n",
    "  * Watson OpenScale \n",
    "  * Watson Machine Learning \n",
    "  * Cloud Object Storage\n",
    "  \n",
    "If you have a paid Cloud account, you may also provision a **Databases for PostgreSQL** or **Db2 Warehouse** service to take full advantage of integration with Watson Studio. If you choose not to provision this paid service, you can use the free internal PostgreSQL storage with OpenScale, but will not be able to configure continuous learning for your model.\n",
    "\n",
    "The notebook will train, create and deploy a German Credit Risk model, configure OpenScale to monitor that deployment, and inject seven days' worth of historical records and measurements for viewing in the OpenScale Insights dashboard."
   ]
  },
  {
   "cell_type": "markdown",
   "metadata": {},
   "source": [
    "### Contents\n",
    "\n",
    "- [Setup](#setup)\n",
    "- [Model building and deployment](#model)\n",
    "- [OpenScale configuration](#openscale)\n",
    "- [Quality monitor and feedback logging](#quality)\n",
    "- [Fairness,Drift monitoring and explanations](#fairness)\n",
    "- [Custom monitors and metrics](#custom)\n",
    "- [Historical data](#historical)"
   ]
  },
  {
   "cell_type": "markdown",
   "metadata": {},
   "source": [
    "### Note: Samples using most latest openscale V2 client from public pypi. It does not cover followings aspects for now:\n",
    "\n",
    "- Historical payload logging \n",
    "- Historical manual labeling"
   ]
  },
  {
   "cell_type": "markdown",
   "metadata": {},
   "source": [
    "# Setup <a name=\"setup\"></a>"
   ]
  },
  {
   "cell_type": "markdown",
   "metadata": {},
   "source": [
    "## Package installation\n",
    "Make sure you have ibm-watson-openscale package version greater than 3.0.17"
   ]
  },
  {
   "cell_type": "code",
   "execution_count": 1,
   "metadata": {},
   "outputs": [
    {
     "name": "stdout",
     "output_type": "stream",
     "text": [
      "ibm-watson-openscale                     3.0.14\n"
     ]
    }
   ],
   "source": [
    "!pip list | grep ibm-watson-openscale"
   ]
  },
  {
   "cell_type": "code",
   "execution_count": 2,
   "metadata": {
    "scrolled": true,
    "tags": []
   },
   "outputs": [
    {
     "name": "stdout",
     "output_type": "stream",
     "text": [
      "\u001b[31mERROR: pip's dependency resolver does not currently take into account all the packages that are installed. This behaviour is the source of the following dependency conflicts.\n",
      "pymilvus 2.4.0 requires pandas>=1.2.4, but you have pandas 1.2.3 which is incompatible.\n",
      "langchain 0.0.236 requires pydantic<2,>=1, but you have pydantic 2.7.4 which is incompatible.\n",
      "langsmith 0.0.10 requires pydantic<2,>=1, but you have pydantic 2.7.4 which is incompatible.\n",
      "ibmcloudant 0.4.2 requires ibm-cloud-sdk-core==3.16.6, but you have ibm-cloud-sdk-core 3.10.1 which is incompatible.\n",
      "langchain-core 0.1.43 requires langsmith<0.2.0,>=0.1.0, but you have langsmith 0.0.10 which is incompatible.\u001b[0m\u001b[31m\n",
      "\u001b[0mSuccessfully installed ibm-watson-machine-learning-1.0.360 urllib3-1.26.19\n",
      "Requirement already satisfied: certifi>=2017.4.17 in /Users/sidharthmittal/miniconda3/lib/python3.11/site-packages (from requests<3.0,>=2.0->ibm-watson-openscale) (2024.2.2)\n"
     ]
    }
   ],
   "source": [
    "# !rm -rf /home/spark/shared/user-libs/python3.7*\n",
    "\n",
    "# If you are executing this notebook in non IBM Watson Studio env then uncomment the pip install statements\n",
    "#!pip install --upgrade scikit-learn==1.1 --user --no-cache | tail -n 1  \n",
    "# !pip install --upgrade pandas==0.25.3 --user --no-cache | tail -n 1\n",
    "# !pip install --upgrade requests==2.23 --user --no-cache | tail -n 1\n",
    "# !pip install --upgrade numpy==1.20.3 --user --no-cache | tail -n 1\n",
    "# !pip install --upgrade SciPy --user --no-cache | tail -n 1\n",
    "\n",
    "!pip install --upgrade ibm-watson-machine-learning --user | tail -n 1\n",
    "!pip install --upgrade ibm-watson-openscale --user --no-cache | tail -n 1"
   ]
  },
  {
   "cell_type": "markdown",
   "metadata": {},
   "source": [
    "## Provision services and configure credentials"
   ]
  },
  {
   "cell_type": "markdown",
   "metadata": {},
   "source": [
    "If you have not already, provision an instance of IBM Watson OpenScale using the [OpenScale link in the Cloud catalog](https://cloud.ibm.com/catalog/services/watson-openscale)."
   ]
  },
  {
   "cell_type": "markdown",
   "metadata": {},
   "source": [
    "Your Cloud API key can be generated by going to the [**Users** section of the Cloud console](https://cloud.ibm.com/iam#/users). From that page, click your name, scroll down to the **API Keys** section, and click **Create an IBM Cloud API key**. Give your key a name and click **Create**, then copy the created key, generate an IAM token using that key and paste it below.\n",
    "\n",
    "**NOTE:** You can also get OpenScale `API_KEY` using IBM CLOUD CLI.\n",
    "\n",
    "How to install IBM Cloud (bluemix) console: [instruction](https://console.bluemix.net/docs/cli/reference/ibmcloud/download_cli.html#install_use)\n",
    "\n",
    "How to get api key using console:\n",
    "```\n",
    "bx login --sso\n",
    "bx iam api-key-create 'my_key'\n",
    "```"
   ]
  },
  {
   "cell_type": "code",
   "execution_count": 3,
   "metadata": {},
   "outputs": [],
   "source": [
    "CLOUD_API_KEY = \"Pc-c2LQd_ECM-sRgfCEYLmBtLwKxf4mQ6I5Oca29wbKw\"\n",
    "IAM_URL=\"https://iam.ng.bluemix.net/oidc/token\""
   ]
  },
  {
   "cell_type": "markdown",
   "metadata": {},
   "source": [
    "### WML credentials example with API key"
   ]
  },
  {
   "cell_type": "code",
   "execution_count": 4,
   "metadata": {},
   "outputs": [],
   "source": [
    "WML_CREDENTIALS = {\n",
    "                   \"url\": \"https://us-south.ml.cloud.ibm.com\",\n",
    "                   \"apikey\": CLOUD_API_KEY\n",
    "            }"
   ]
  },
  {
   "cell_type": "markdown",
   "metadata": {},
   "source": [
    "This tutorial can use Databases for PostgreSQL, Db2 Warehouse, or a free internal verison of PostgreSQL to create a datamart for OpenScale.\n",
    "\n",
    "If you have previously configured OpenScale, it will use your existing datamart, and not interfere with any models you are currently monitoring. Do not update the cell below.\n",
    "\n",
    "If you do not have a paid Cloud account or would prefer not to provision this paid service, you may use the free internal PostgreSQL service with OpenScale. Do not update the cell below.\n",
    "\n",
    "To provision a new instance of Db2 Warehouse, locate [Db2 Warehouse in the Cloud catalog](https://cloud.ibm.com/catalog/services/db2-warehouse), give your service a name, and click **Create**. Once your instance is created, click the **Service Credentials** link on the left side of the screen. Click the **New credential** button, give your credentials a name, and click **Add**. Your new credentials can be accessed by clicking the **View credentials** button. Copy and paste your Db2 Warehouse credentials into the cell below.\n",
    "\n",
    "To provision a new instance of Databases for PostgreSQL, locate [Databases for PostgreSQL in the Cloud catalog](https://cloud.ibm.com/catalog/services/databases-for-postgresql), give your service a name, and click **Create**. Once your instance is created, click the **Service Credentials** link on the left side of the screen. Click the **New credential** button, give your credentials a name, and click **Add**. Your new credentials can be accessed by clicking the **View credentials** button. Copy and paste your Databases for PostgreSQL credentials into the cell below."
   ]
  },
  {
   "cell_type": "markdown",
   "metadata": {},
   "source": [
    "## Database and COS config"
   ]
  },
  {
   "cell_type": "code",
   "execution_count": null,
   "metadata": {
    "scrolled": true
   },
   "outputs": [],
   "source": [
    "#DB_CREDENTIALS= {\"hostname\":\"\",\"username\":\"\",\"password\":\"\",\"database\":\"\",\"port\":\"\",\"ssl\":True,\"sslmode\":\"\",\"certificate_base64\":\"\"}\n",
    "DB_CREDENTIALS = None\n",
    "SCHEMA_NAME = None"
   ]
  },
  {
   "cell_type": "markdown",
   "metadata": {},
   "source": [
    "__If you previously configured OpenScale to use the free internal version of PostgreSQL, you can switch to a new datamart using a paid database service.__ If you would like to delete the internal PostgreSQL configuration and create a new one using service credentials supplied in the cell above, set the __KEEP_MY_INTERNAL_POSTGRES__ variable below to __False__ below. In this case, the notebook will remove your existing internal PostgreSQL datamart and create a new one with the supplied credentials. __*NO DATA MIGRATION WILL OCCUR.*__"
   ]
  },
  {
   "cell_type": "code",
   "execution_count": null,
   "metadata": {},
   "outputs": [],
   "source": [
    "KEEP_MY_INTERNAL_POSTGRES = True"
   ]
  },
  {
   "cell_type": "markdown",
   "metadata": {},
   "source": [
    "In next cells, you will need to paste some credentials to Cloud Object Storage. If you haven't worked with COS yet please visit [getting started with COS tutorial](https://cloud.ibm.com/docs/cloud-object-storage?topic=cloud-object-storage-getting-started). \n",
    "You can find `COS_API_KEY_ID` and `COS_RESOURCE_CRN` variables in **_Service Credentials_** in menu of your COS instance. Used COS Service Credentials must be created with _Role_ parameter set as Writer. Later training data file will be loaded to the bucket of your instance and used as training refecence in subsription.  \n",
    "`COS_ENDPOINT` variable can be found in **_Endpoint_** field of the menu."
   ]
  },
  {
   "cell_type": "code",
   "execution_count": null,
   "metadata": {},
   "outputs": [],
   "source": [
    "COS_API_KEY_ID = \"***\"\n",
    "COS_RESOURCE_CRN = \"***\" # eg \"crn:v1:bluemix:public:cloud-object-storage:global:a/3bf0d9003abfb5d29761c3e97696b71c:d6f04d83-6c4f-4a62-a165-696756d63903::\"\n",
    "COS_ENDPOINT = \"\" # Current list avaiable at https://control.cloud-object-storage.cloud.ibm.com/v2/endpoints"
   ]
  },
  {
   "cell_type": "code",
   "execution_count": null,
   "metadata": {},
   "outputs": [],
   "source": [
    "BUCKET_NAME = \"\" #example: \"credit-risk-training-data\""
   ]
  },
  {
   "cell_type": "markdown",
   "metadata": {},
   "source": [
    "## Run the notebook\n",
    "\n",
    "At this point, the notebook is ready to run. You can either run the cells one at a time, or click the **Kernel** option above and select **Restart and Run All** to run all the cells."
   ]
  },
  {
   "cell_type": "markdown",
   "metadata": {},
   "source": [
    "# Model building and deployment <a name=\"model\"></a>"
   ]
  },
  {
   "cell_type": "markdown",
   "metadata": {},
   "source": [
    "In this section you will learn how to train Scikit-learn model and next deploy it as web-service using Watson Machine Learning service."
   ]
  },
  {
   "cell_type": "markdown",
   "metadata": {},
   "source": [
    "## Load the training data from github"
   ]
  },
  {
   "cell_type": "code",
   "execution_count": null,
   "metadata": {
    "scrolled": true,
    "tags": []
   },
   "outputs": [],
   "source": [
    "!rm german_credit_data_biased_training.csv\n",
    "!wget https://raw.githubusercontent.com/IBM/watson-openscale-samples/main/IBM%20Cloud/WML/assets/data/credit_risk/german_credit_data_biased_training.csv -O german_credit_data_biased_training.csv"
   ]
  },
  {
   "cell_type": "code",
   "execution_count": null,
   "metadata": {
    "scrolled": true
   },
   "outputs": [],
   "source": [
    "import numpy as np\n",
    "import pandas as pd\n",
    "\n",
    "training_data_file_name = \"german_credit_data_biased_training.csv\"\n",
    "data_df = pd.read_csv(training_data_file_name)"
   ]
  },
  {
   "cell_type": "markdown",
   "metadata": {},
   "source": [
    "## Explore data"
   ]
  },
  {
   "cell_type": "code",
   "execution_count": null,
   "metadata": {},
   "outputs": [],
   "source": [
    "data_df.head()"
   ]
  },
  {
   "cell_type": "code",
   "execution_count": null,
   "metadata": {
    "scrolled": true,
    "tags": []
   },
   "outputs": [],
   "source": [
    "print('Columns: ', list(data_df.columns))\n",
    "print('Number of columns: ', len(data_df.columns))"
   ]
  },
  {
   "cell_type": "markdown",
   "metadata": {},
   "source": [
    "As you can see, the data contains twenty one fields. `Risk` field is the one you would like to predict using feedback data."
   ]
  },
  {
   "cell_type": "code",
   "execution_count": null,
   "metadata": {
    "scrolled": true,
    "tags": []
   },
   "outputs": [],
   "source": [
    "print('Number of records: ', data_df.Risk.count())"
   ]
  },
  {
   "cell_type": "code",
   "execution_count": null,
   "metadata": {},
   "outputs": [],
   "source": [
    "target_count = data_df.groupby('Risk')['Risk'].count()\n",
    "target_count"
   ]
  },
  {
   "cell_type": "markdown",
   "metadata": {},
   "source": [
    "## Visualize data"
   ]
  },
  {
   "cell_type": "code",
   "execution_count": null,
   "metadata": {},
   "outputs": [],
   "source": [
    "#target_count.plot.pie(figsize=(8, 8));"
   ]
  },
  {
   "cell_type": "markdown",
   "metadata": {},
   "source": [
    "## Save training data to Cloud Object Storage"
   ]
  },
  {
   "cell_type": "code",
   "execution_count": null,
   "metadata": {},
   "outputs": [],
   "source": [
    "import ibm_boto3\n",
    "from ibm_botocore.client import Config, ClientError\n",
    "\n",
    "cos_client = ibm_boto3.resource(\"s3\",\n",
    "    ibm_api_key_id=COS_API_KEY_ID,\n",
    "    ibm_service_instance_id=COS_RESOURCE_CRN,\n",
    "    ibm_auth_endpoint=\"https://iam.bluemix.net/oidc/token\",\n",
    "    config=Config(signature_version=\"oauth\"),\n",
    "    endpoint_url=COS_ENDPOINT\n",
    ")"
   ]
  },
  {
   "cell_type": "code",
   "execution_count": null,
   "metadata": {
    "scrolled": true
   },
   "outputs": [],
   "source": [
    "with open(training_data_file_name, \"rb\") as file_data:\n",
    "    cos_client.Object(BUCKET_NAME, training_data_file_name).upload_fileobj(\n",
    "        Fileobj=file_data\n",
    "    )"
   ]
  },
  {
   "cell_type": "markdown",
   "metadata": {},
   "source": [
    "## Create a model\n",
    "In this section you will learn how to:\n",
    "\n",
    "- Prepare data for training a model\n",
    "- Create machine learning pipeline\n",
    "- Train a model"
   ]
  },
  {
   "cell_type": "code",
   "execution_count": null,
   "metadata": {},
   "outputs": [],
   "source": [
    "MODEL_NAME = \"Scikit German Risk Model WML V4\"\n",
    "DEPLOYMENT_NAME = \"Scikit German Risk Deployment WML V4\""
   ]
  },
  {
   "cell_type": "markdown",
   "metadata": {},
   "source": [
    "### You will start with importing required libraries"
   ]
  },
  {
   "cell_type": "code",
   "execution_count": null,
   "metadata": {
    "scrolled": true
   },
   "outputs": [],
   "source": [
    "from sklearn.linear_model import SGDClassifier\n",
    "from sklearn.preprocessing import LabelEncoder, OneHotEncoder\n",
    "from sklearn.decomposition import TruncatedSVD\n",
    "from sklearn.compose import ColumnTransformer\n",
    "from sklearn.pipeline import Pipeline\n",
    "from sklearn.model_selection import train_test_split"
   ]
  },
  {
   "cell_type": "markdown",
   "metadata": {},
   "source": [
    "### Splitting the data into train and test"
   ]
  },
  {
   "cell_type": "code",
   "execution_count": null,
   "metadata": {},
   "outputs": [],
   "source": [
    "train_data, test_data = train_test_split(data_df, test_size=0.2)"
   ]
  },
  {
   "cell_type": "markdown",
   "metadata": {},
   "source": [
    "### Preparing the pipeline"
   ]
  },
  {
   "cell_type": "code",
   "execution_count": null,
   "metadata": {},
   "outputs": [],
   "source": [
    "features_idx = np.s_[0:-1]\n",
    "all_records_idx = np.s_[:]\n",
    "first_record_idx = np.s_[0]"
   ]
  },
  {
   "cell_type": "markdown",
   "metadata": {},
   "source": [
    "In this step you will encode target column labels into numeric values. You can use `inverse_transform` to decode numeric predictions into labels."
   ]
  },
  {
   "cell_type": "code",
   "execution_count": null,
   "metadata": {},
   "outputs": [],
   "source": [
    "string_fields = [type(fld) is str for fld in train_data.iloc[first_record_idx, features_idx]]\n",
    "ct = ColumnTransformer([(\"ohe\", OneHotEncoder(), list(np.array(train_data.columns)[features_idx][string_fields]))])\n",
    "clf_linear = SGDClassifier(loss='log', penalty='l2', max_iter=1000, tol=1e-5)\n",
    "\n",
    "pipeline_linear = Pipeline([('ct', ct), ('clf_linear', clf_linear)])"
   ]
  },
  {
   "cell_type": "markdown",
   "metadata": {},
   "source": [
    "### Train a model"
   ]
  },
  {
   "cell_type": "code",
   "execution_count": null,
   "metadata": {},
   "outputs": [],
   "source": [
    "risk_model = pipeline_linear.fit(train_data.drop('Risk', axis=1), train_data.Risk)"
   ]
  },
  {
   "cell_type": "markdown",
   "metadata": {},
   "source": [
    "### Evaluate the model"
   ]
  },
  {
   "cell_type": "code",
   "execution_count": null,
   "metadata": {
    "tags": []
   },
   "outputs": [],
   "source": [
    "from sklearn.metrics import roc_auc_score\n",
    "\n",
    "predictions = risk_model.predict(test_data.drop('Risk', axis=1))\n",
    "indexed_preds = [0 if prediction=='No Risk' else 1 for prediction in predictions]\n",
    "\n",
    "real_observations = test_data.Risk.replace('Risk', 1)\n",
    "real_observations = real_observations.replace('No Risk', 0).values\n",
    "\n",
    "auc = roc_auc_score(real_observations, indexed_preds)\n",
    "print(auc)"
   ]
  },
  {
   "cell_type": "markdown",
   "metadata": {},
   "source": [
    "## Publish the model"
   ]
  },
  {
   "cell_type": "markdown",
   "metadata": {},
   "source": [
    "In this section, the notebook uses the supplied Watson Machine Learning credentials to save the model (including the pipeline) to the WML instance. Previous versions of the model are removed so that the notebook can be run again, resetting all data for another demo."
   ]
  },
  {
   "cell_type": "code",
   "execution_count": null,
   "metadata": {
    "scrolled": true
   },
   "outputs": [],
   "source": [
    "import json\n",
    "from ibm_watson_machine_learning import APIClient\n",
    "\n",
    "wml_client = APIClient(WML_CREDENTIALS)\n",
    "wml_client.version"
   ]
  },
  {
   "cell_type": "markdown",
   "metadata": {},
   "source": [
    "### Listing all the available spaces"
   ]
  },
  {
   "cell_type": "code",
   "execution_count": null,
   "metadata": {
    "tags": []
   },
   "outputs": [],
   "source": [
    "wml_client.spaces.list(limit=10)"
   ]
  },
  {
   "cell_type": "code",
   "execution_count": null,
   "metadata": {},
   "outputs": [],
   "source": [
    "WML_SPACE_ID='***' # use space id here\n",
    "wml_client.set.default_space(WML_SPACE_ID)"
   ]
  },
  {
   "cell_type": "markdown",
   "metadata": {},
   "source": [
    "### Remove existing model and deployment"
   ]
  },
  {
   "cell_type": "code",
   "execution_count": null,
   "metadata": {
    "scrolled": true,
    "tags": []
   },
   "outputs": [],
   "source": [
    "deployments_list = wml_client.deployments.get_details()\n",
    "for deployment in deployments_list[\"resources\"]:\n",
    "    model_id = deployment[\"entity\"][\"asset\"][\"id\"]\n",
    "    deployment_id = deployment[\"metadata\"][\"id\"]\n",
    "    if deployment[\"metadata\"][\"name\"] == DEPLOYMENT_NAME:\n",
    "        print(\"Deleting deployment id\", deployment_id)\n",
    "        wml_client.deployments.delete(deployment_id)\n",
    "        print(\"Deleting model id\", model_id)\n",
    "        wml_client.repository.delete(model_id)\n",
    "wml_client.repository.list_models()"
   ]
  },
  {
   "cell_type": "code",
   "execution_count": null,
   "metadata": {},
   "outputs": [],
   "source": [
    "datasource_type = wml_client.connections.get_datasource_type_uid_by_name('bluemixcloudobjectstorage')\n",
    "conn_meta_props= {\n",
    "    wml_client.connections.ConfigurationMetaNames.NAME: \"Connection My COS \",\n",
    "    wml_client.connections.ConfigurationMetaNames.DATASOURCE_TYPE: datasource_type,\n",
    "    wml_client.connections.ConfigurationMetaNames.DESCRIPTION: \"Connection to my COS\",\n",
    "    wml_client.connections.ConfigurationMetaNames.PROPERTIES: {\n",
    "        'bucket': BUCKET_NAME,\n",
    "        'api_key': COS_API_KEY_ID,\n",
    "        'resource_instance_id': COS_RESOURCE_CRN,\n",
    "        'iam_url': \"https://iam.ng.bluemix.net/oidc/token\",\n",
    "        'url': COS_ENDPOINT\n",
    "    }\n",
    "}\n",
    "\n",
    "conn_details = wml_client.connections.create(meta_props=conn_meta_props)\n",
    "connection_id = wml_client.connections.get_uid(conn_details)\n",
    "\n",
    "training_data_references = [\n",
    "    {\n",
    "        \"id\": \"German Credit Risk\", \n",
    "        \"type\": \"connection_asset\",\n",
    "        \"connection\": {\n",
    "            \"id\": connection_id,\n",
    "            \"href\": \"/v2/connections/\" + connection_id + \"?space_id=\" + WML_SPACE_ID\n",
    "\n",
    "        },\n",
    "        \"location\": {\n",
    "            \"bucket\": BUCKET_NAME,\n",
    "            \"file_name\": training_data_file_name\n",
    "        }\n",
    "    }    \n",
    "]\n"
   ]
  },
  {
   "cell_type": "code",
   "execution_count": null,
   "metadata": {
    "scrolled": true,
    "tags": []
   },
   "outputs": [],
   "source": [
    "#Note if there is specification related exception or specification ID is None then use \"default_py3.8\" instead of \"default_py3.7_opence\"\n",
    "software_spec_uid = wml_client.software_specifications.get_id_by_name(\"runtime-23.1-py3.10\")\n",
    "print(\"Software Specification ID: {}\".format(software_spec_uid))\n",
    "\n",
    "model_props = {\n",
    "        wml_client._models.ConfigurationMetaNames.NAME:\"{}\".format(MODEL_NAME),\n",
    "        wml_client._models.ConfigurationMetaNames.TYPE: \"scikit-learn_1.1\",\n",
    "        wml_client._models.ConfigurationMetaNames.SOFTWARE_SPEC_UID: software_spec_uid,\n",
    "        #wml_client._models.ConfigurationMetaNames.TRAINING_DATA_REFERENCES: training_data_references,\n",
    "        wml_client._models.ConfigurationMetaNames.LABEL_FIELD: \"Risk\",\n",
    "    }"
   ]
  },
  {
   "cell_type": "code",
   "execution_count": null,
   "metadata": {
    "scrolled": true,
    "tags": []
   },
   "outputs": [],
   "source": [
    "print(\"Storing model ...\")\n",
    "\n",
    "published_model_details = wml_client.repository.store_model(model=risk_model, meta_props=model_props, training_data=data_df.drop([\"Risk\"], axis=1), training_target=data_df.Risk)\n",
    "model_uid = wml_client.repository.get_model_id(published_model_details)\n",
    "print(\"Done\")\n",
    "print(\"Model ID: {}\".format(model_uid))"
   ]
  },
  {
   "cell_type": "markdown",
   "metadata": {},
   "source": [
    "## Deploy the model"
   ]
  },
  {
   "cell_type": "markdown",
   "metadata": {},
   "source": [
    "The next section of the notebook deploys the model as a RESTful web service in Watson Machine Learning. The deployed model will have a scoring URL you can use to send data to the model for predictions."
   ]
  },
  {
   "cell_type": "code",
   "execution_count": null,
   "metadata": {
    "scrolled": true,
    "tags": []
   },
   "outputs": [],
   "source": [
    "print(\"Deploying model...\")\n",
    "deployment_details = wml_client.deployments.create(\n",
    "    model_uid, \n",
    "    meta_props={\n",
    "        wml_client.deployments.ConfigurationMetaNames.NAME: \"{}\".format(DEPLOYMENT_NAME),\n",
    "        wml_client.deployments.ConfigurationMetaNames.ONLINE: {}\n",
    "    }\n",
    ")\n",
    "scoring_url = wml_client.deployments.get_scoring_href(deployment_details)\n",
    "deployment_uid=wml_client.deployments.get_uid(deployment_details)\n",
    "\n",
    "print(\"Scoring URL:\" + scoring_url)\n",
    "print(\"Model id: {}\".format(model_uid))\n",
    "print(\"Deployment id: {}\".format(deployment_uid))"
   ]
  },
  {
   "cell_type": "markdown",
   "metadata": {},
   "source": [
    "## Score the model"
   ]
  },
  {
   "cell_type": "code",
   "execution_count": null,
   "metadata": {},
   "outputs": [],
   "source": [
    "fields = [\"CheckingStatus\", \"LoanDuration\", \"CreditHistory\", \"LoanPurpose\", \"LoanAmount\", \"ExistingSavings\",\n",
    "                  \"EmploymentDuration\", \"InstallmentPercent\", \"Sex\", \"OthersOnLoan\", \"CurrentResidenceDuration\",\n",
    "                  \"OwnsProperty\", \"Age\", \"InstallmentPlans\", \"Housing\", \"ExistingCreditsCount\", \"Job\", \"Dependents\",\n",
    "                  \"Telephone\", \"ForeignWorker\"]\n",
    "values = [\n",
    "            [\"no_checking\", 13, \"credits_paid_to_date\", \"car_new\", 1343, \"100_to_500\", \"1_to_4\", 2, \"female\", \"none\", 3,\n",
    "             \"savings_insurance\", 46, \"none\", \"own\", 2, \"skilled\", 1, \"none\", \"yes\"],\n",
    "            [\"no_checking\", 24, \"prior_payments_delayed\", \"furniture\", 4567, \"500_to_1000\", \"1_to_4\", 4, \"male\", \"none\",\n",
    "             4, \"savings_insurance\", 36, \"none\", \"free\", 2, \"management_self-employed\", 1, \"none\", \"yes\"],\n",
    "        ]\n",
    "\n",
    "scoring_payload = {\"input_data\": [{\"fields\": fields, \"values\": values}]}"
   ]
  },
  {
   "cell_type": "code",
   "execution_count": null,
   "metadata": {},
   "outputs": [],
   "source": [
    "predictions = wml_client.deployments.score(deployment_uid, scoring_payload)\n",
    "predictions"
   ]
  },
  {
   "cell_type": "markdown",
   "metadata": {},
   "source": [
    "# Configure OpenScale <a name=\"openscale\"></a>"
   ]
  },
  {
   "cell_type": "markdown",
   "metadata": {},
   "source": [
    "The notebook will now import the necessary libraries and set up a Python OpenScale client."
   ]
  },
  {
   "cell_type": "code",
   "execution_count": 18,
   "metadata": {
    "scrolled": true,
    "tags": []
   },
   "outputs": [
    {
     "data": {
      "text/plain": [
       "'3.0.14'"
      ]
     },
     "execution_count": 18,
     "metadata": {},
     "output_type": "execute_result"
    }
   ],
   "source": [
    "from ibm_cloud_sdk_core.authenticators import IAMAuthenticator,BearerTokenAuthenticator\n",
    "\n",
    "from ibm_watson_openscale import *\n",
    "from ibm_watson_openscale.supporting_classes.enums import *\n",
    "from ibm_watson_openscale.supporting_classes import *\n",
    "\n",
    "\n",
    "authenticator = IAMAuthenticator(apikey=CLOUD_API_KEY)\n",
    "#authenticator = BearerTokenAuthenticator(bearer_token=IAM_TOKEN) ## uncomment this line if using IAM token as authenticator\n",
    "wos_client = APIClient(authenticator=authenticator)\n",
    "wos_client.version"
   ]
  },
  {
   "cell_type": "markdown",
   "metadata": {},
   "source": [
    "## Create schema and datamart"
   ]
  },
  {
   "cell_type": "markdown",
   "metadata": {},
   "source": [
    "### Set up datamart"
   ]
  },
  {
   "cell_type": "markdown",
   "metadata": {},
   "source": [
    "Watson OpenScale uses a database to store payload logs and calculated metrics. If database credentials were **not** supplied above, the notebook will use the free, internal lite database. If database credentials were supplied, the datamart will be created there **unless** there is an existing datamart **and** the **KEEP_MY_INTERNAL_POSTGRES** variable is set to **True**. If an OpenScale datamart exists in Db2 or PostgreSQL, the existing datamart will be used and no data will be overwritten.\n",
    "\n",
    "Prior instances of the German Credit model will be removed from OpenScale monitoring."
   ]
  },
  {
   "cell_type": "code",
   "execution_count": 19,
   "metadata": {},
   "outputs": [
    {
     "data": {
      "text/html": [
       "<HTML>\n",
       "        <body>\n",
       "            <h3>Data Marts</h3>\n",
       "            <table style='border: 1px solid #dddddd; font-family: Courier'>\n",
       "                <th style='border: 1px solid #dddddd'>name</th><th style='border: 1px solid #dddddd'>description</th><th style='border: 1px solid #dddddd'>internal_database</th><th style='border: 1px solid #dddddd'>status</th><th style='border: 1px solid #dddddd'>created_at</th><th style='border: 1px solid #dddddd'>id</th>\n",
       "                <tr><td style='border: 1px solid #dddddd'>None</td><td style='border: 1px solid #dddddd'>None</td><td style='border: 1px solid #dddddd'>True</td><td style='border: 1px solid #dddddd'>active</td><td style='border: 1px solid #dddddd'>2024-06-14 01:17:39.967000+00:00</td><td style='border: 1px solid #dddddd'>936547e2-5ada-4f38-a9dd-0258b445fd3e</td></tr>\n",
       "            </table>\n",
       "        </body>\n",
       "        </HTML>"
      ],
      "text/plain": [
       "<IPython.core.display.HTML object>"
      ]
     },
     "metadata": {},
     "output_type": "display_data"
    }
   ],
   "source": [
    "wos_client.data_marts.show()"
   ]
  },
  {
   "cell_type": "code",
   "execution_count": 20,
   "metadata": {
    "tags": []
   },
   "outputs": [
    {
     "name": "stdout",
     "output_type": "stream",
     "text": [
      "Using existing datamart 936547e2-5ada-4f38-a9dd-0258b445fd3e\n"
     ]
    }
   ],
   "source": [
    "data_marts = wos_client.data_marts.list().result.data_marts\n",
    "if len(data_marts) == 0:\n",
    "    if DB_CREDENTIALS is not None:\n",
    "        if SCHEMA_NAME is None: \n",
    "            print(\"Please specify the SCHEMA_NAME and rerun the cell\")\n",
    "\n",
    "        print('Setting up external datamart')\n",
    "        added_data_mart_result = wos_client.data_marts.add(\n",
    "                background_mode=False,\n",
    "                name=\"WOS Data Mart\",\n",
    "                description=\"Data Mart created by WOS tutorial notebook\",\n",
    "                database_configuration=DatabaseConfigurationRequest(\n",
    "                  database_type=DatabaseType.POSTGRESQL,\n",
    "                    credentials=PrimaryStorageCredentialsLong(\n",
    "                        hostname=DB_CREDENTIALS['hostname'],\n",
    "                        username=DB_CREDENTIALS['username'],\n",
    "                        password=DB_CREDENTIALS['password'],\n",
    "                        db=DB_CREDENTIALS['database'],\n",
    "                        port=DB_CREDENTIALS['port'],\n",
    "                        ssl=True,\n",
    "                        sslmode=DB_CREDENTIALS['sslmode'],\n",
    "                        certificate_base64=DB_CREDENTIALS['certificate_base64']\n",
    "                    ),\n",
    "                    location=LocationSchemaName(\n",
    "                        schema_name= SCHEMA_NAME\n",
    "                    )\n",
    "                )\n",
    "             ).result\n",
    "    else:\n",
    "        print('Setting up internal datamart')\n",
    "        added_data_mart_result = wos_client.data_marts.add(\n",
    "                background_mode=False,\n",
    "                name=\"WOS Data Mart\",\n",
    "                description=\"Data Mart created by WOS tutorial notebook\", \n",
    "                internal_database = True).result\n",
    "        \n",
    "    data_mart_id = added_data_mart_result.metadata.id\n",
    "    \n",
    "else:\n",
    "    data_mart_id=data_marts[0].metadata.id\n",
    "    print('Using existing datamart {}'.format(data_mart_id))"
   ]
  },
  {
   "cell_type": "markdown",
   "metadata": {},
   "source": [
    "### Remove existing service provider connected with used  WML instance. "
   ]
  },
  {
   "cell_type": "markdown",
   "metadata": {},
   "source": [
    "Multiple service providers for the same engine instance are avaiable in Watson OpenScale. To avoid multiple service providers of used WML instance in the tutorial notebook the following code deletes existing service provder(s) and then adds new one. "
   ]
  },
  {
   "cell_type": "code",
   "execution_count": 21,
   "metadata": {},
   "outputs": [],
   "source": [
    "SERVICE_PROVIDER_NAME = \"german-credit-card-sdk\"\n",
    "SERVICE_PROVIDER_DESCRIPTION = \"german-credit-card-sdk\""
   ]
  },
  {
   "cell_type": "code",
   "execution_count": 22,
   "metadata": {
    "tags": []
   },
   "outputs": [],
   "source": [
    "service_providers = wos_client.service_providers.list().result.service_providers\n",
    "for service_provider in service_providers:\n",
    "    service_instance_name = service_provider.entity.name\n",
    "    if service_instance_name == SERVICE_PROVIDER_NAME:\n",
    "        service_provider_id = service_provider.metadata.id\n",
    "        wos_client.service_providers.delete(service_provider_id)\n",
    "        print(\"Deleted existing service_provider for WML instance: {}\".format(service_provider_id))"
   ]
  },
  {
   "cell_type": "markdown",
   "metadata": {},
   "source": [
    "## Add service provider"
   ]
  },
  {
   "cell_type": "markdown",
   "metadata": {},
   "source": [
    "Watson OpenScale needs to be bound to the Watson Machine Learning instance to capture payload data into and out of the model."
   ]
  },
  {
   "cell_type": "markdown",
   "metadata": {},
   "source": [
    "**Note:** You can bind more than one engine instance if needed by calling `wos_client.service_providers.add` method. Next, you can refer to particular service provider using `service_provider_id`."
   ]
  },
  {
   "cell_type": "code",
   "execution_count": 23,
   "metadata": {},
   "outputs": [],
   "source": [
    "WML_SPACE_ID = \"00997e06-a15a-495f-b209-de80ce008bd0\""
   ]
  },
  {
   "cell_type": "code",
   "execution_count": 26,
   "metadata": {
    "tags": []
   },
   "outputs": [
    {
     "name": "stdout",
     "output_type": "stream",
     "text": [
      "\n",
      "\n",
      "=================================================================================\n",
      "\n",
      " Waiting for end of adding service provider ad1d980a-e1b2-445e-a3bf-770b41fca09f \n",
      "\n",
      "=================================================================================\n",
      "\n",
      "\n",
      "\n",
      "active\n",
      "\n",
      "-----------------------------------------------\n",
      " Successfully finished adding service provider \n",
      "-----------------------------------------------\n",
      "\n",
      "\n"
     ]
    }
   ],
   "source": [
    "added_service_provider_result = wos_client.service_providers.add(\n",
    "        name=SERVICE_PROVIDER_NAME,\n",
    "        description=SERVICE_PROVIDER_DESCRIPTION,\n",
    "        service_type=ServiceTypes.WATSON_MACHINE_LEARNING,\n",
    "        deployment_space_id = WML_SPACE_ID,\n",
    "        operational_space_id = \"production\",\n",
    "        credentials=WMLCredentialsCloud(\n",
    "            apikey=CLOUD_API_KEY,      ## use `apikey=IAM_TOKEN` if using IAM_TOKEN\n",
    "            url=WML_CREDENTIALS[\"url\"],\n",
    "            instance_id=None\n",
    "        ),\n",
    "        background_mode=False\n",
    "    ).result\n",
    "service_provider_id = added_service_provider_result.metadata.id"
   ]
  },
  {
   "cell_type": "code",
   "execution_count": 29,
   "metadata": {},
   "outputs": [
    {
     "data": {
      "text/html": [
       "<HTML>\n",
       "        <body>\n",
       "            <h3>Service Providers</h3>\n",
       "            <table style='border: 1px solid #dddddd; font-family: Courier'>\n",
       "                <th style='border: 1px solid #dddddd'>instance_id</th><th style='border: 1px solid #dddddd'>status</th><th style='border: 1px solid #dddddd'>name</th><th style='border: 1px solid #dddddd'>service_type</th><th style='border: 1px solid #dddddd'>created_at</th><th style='border: 1px solid #dddddd'>id</th>\n",
       "                <tr><td style='border: 1px solid #dddddd'>7516eee5-fcc1-4dd0-ad09-a124aa185930</td><td style='border: 1px solid #dddddd'>active</td><td style='border: 1px solid #dddddd'>german-credit-card-sdk</td><td style='border: 1px solid #dddddd'>watson_machine_learning</td><td style='border: 1px solid #dddddd'>2024-07-12 05:28:02.713000+00:00</td><td style='border: 1px solid #dddddd'>ad1d980a-e1b2-445e-a3bf-770b41fca09f</td></tr><tr><td style='border: 1px solid #dddddd'>57cb1f28-2e6a-43c4-a1a2-e28f4e784f23</td><td style='border: 1px solid #dddddd'>active</td><td style='border: 1px solid #dddddd'>service-provider-space-46688dd9-2d38-41a4-b5b9-329eb07d6852</td><td style='border: 1px solid #dddddd'>watson_machine_learning</td><td style='border: 1px solid #dddddd'>2024-07-12 02:48:17.044000+00:00</td><td style='border: 1px solid #dddddd'>adcc24a9-fded-4a7b-b4bb-c948284affc4</td></tr><tr><td style='border: 1px solid #dddddd'>57cb1f28-2e6a-43c4-a1a2-e28f4e784f23</td><td style='border: 1px solid #dddddd'>active</td><td style='border: 1px solid #dddddd'>service-provider-space-03dc52ef-ccad-4bd6-9cb6-7852afeba391</td><td style='border: 1px solid #dddddd'>watson_machine_learning</td><td style='border: 1px solid #dddddd'>2024-07-11 14:27:30.231000+00:00</td><td style='border: 1px solid #dddddd'>be88a940-b07c-4c49-8523-2bd1c3271a97</td></tr><tr><td style='border: 1px solid #dddddd'>944a607e-4b05-417a-b7f8-c74432ebe930</td><td style='border: 1px solid #dddddd'>active</td><td style='border: 1px solid #dddddd'>SPACE_Claim next steps space</td><td style='border: 1px solid #dddddd'>watson_machine_learning</td><td style='border: 1px solid #dddddd'>2024-07-11 10:01:18.557000+00:00</td><td style='border: 1px solid #dddddd'>65053fd8-fa36-439c-9c35-e176f98d003a</td></tr><tr><td style='border: 1px solid #dddddd'>944a607e-4b05-417a-b7f8-c74432ebe930</td><td style='border: 1px solid #dddddd'>active</td><td style='border: 1px solid #dddddd'>PROJECT_Validation project</td><td style='border: 1px solid #dddddd'>watson_machine_learning</td><td style='border: 1px solid #dddddd'>2024-07-11 09:13:23.090000+00:00</td><td style='border: 1px solid #dddddd'>6bc45372-99e9-49b5-a1ed-a6e31fdf479a</td></tr>\n",
       "            </table>\n",
       "        </body>\n",
       "        </HTML>"
      ],
      "text/plain": [
       "<IPython.core.display.HTML object>"
      ]
     },
     "metadata": {},
     "output_type": "display_data"
    },
    {
     "name": "stdout",
     "output_type": "stream",
     "text": [
      "Note: First 5 records were displayed.\n"
     ]
    }
   ],
   "source": [
    "wos_client.service_providers.show(5)"
   ]
  },
  {
   "cell_type": "markdown",
   "metadata": {},
   "source": [
    "## Subscriptions"
   ]
  },
  {
   "cell_type": "markdown",
   "metadata": {},
   "source": [
    "### Remove existing credit risk subscriptions"
   ]
  },
  {
   "cell_type": "code",
   "execution_count": 47,
   "metadata": {},
   "outputs": [
    {
     "data": {
      "text/html": [
       "<HTML>\n",
       "        <body>\n",
       "            <h3>Subscriptions</h3>\n",
       "            <table style='border: 1px solid #dddddd; font-family: Courier'>\n",
       "                <th style='border: 1px solid #dddddd'>asset_id</th><th style='border: 1px solid #dddddd'>asset_name</th><th style='border: 1px solid #dddddd'>data_mart_id</th><th style='border: 1px solid #dddddd'>deployment_id</th><th style='border: 1px solid #dddddd'>deployment_name</th><th style='border: 1px solid #dddddd'>service_provider_id</th><th style='border: 1px solid #dddddd'>status</th><th style='border: 1px solid #dddddd'>created_at</th><th style='border: 1px solid #dddddd'>id</th>\n",
       "                <tr><td style='border: 1px solid #dddddd'>1ff20819-ad52-443a-9d8e-cc4c043bdadd</td><td style='border: 1px solid #dddddd'>MY-workshop-SDK-asset</td><td style='border: 1px solid #dddddd'>936547e2-5ada-4f38-a9dd-0258b445fd3e</td><td style='border: 1px solid #dddddd'>6e6a433b-6459-4bee-bc85-3e05c76bd0ae</td><td style='border: 1px solid #dddddd'>MY-workshop-SDK-asset</td><td style='border: 1px solid #dddddd'>ad1d980a-e1b2-445e-a3bf-770b41fca09f</td><td style='border: 1px solid #dddddd'>active</td><td style='border: 1px solid #dddddd'>2024-07-12 05:42:57.444000+00:00</td><td style='border: 1px solid #dddddd'>112ef77a-677d-4774-a434-822882fd28a4</td></tr><tr><td style='border: 1px solid #dddddd'>ac68a759-36a7-4f5c-ad8f-e6a6a246d38f</td><td style='border: 1px solid #dddddd'>AutoAI policy risk - P4 Ridge - Model</td><td style='border: 1px solid #dddddd'>936547e2-5ada-4f38-a9dd-0258b445fd3e</td><td style='border: 1px solid #dddddd'>992082f1-8e0b-4d75-a338-89c7346f5539</td><td style='border: 1px solid #dddddd'>emartens - Auto AI Policy risk Production</td><td style='border: 1px solid #dddddd'>adcc24a9-fded-4a7b-b4bb-c948284affc4</td><td style='border: 1px solid #dddddd'>active</td><td style='border: 1px solid #dddddd'>2024-07-12 02:48:40.458000+00:00</td><td style='border: 1px solid #dddddd'>04918f6e-d712-4a4f-bf69-40a7e81d820d</td></tr>\n",
       "            </table>\n",
       "        </body>\n",
       "        </HTML>"
      ],
      "text/plain": [
       "<IPython.core.display.HTML object>"
      ]
     },
     "metadata": {},
     "output_type": "display_data"
    },
    {
     "name": "stdout",
     "output_type": "stream",
     "text": [
      "Note: First 2 records were displayed.\n"
     ]
    }
   ],
   "source": [
    "wos_client.subscriptions.show(2)"
   ]
  },
  {
   "cell_type": "code",
   "execution_count": 36,
   "metadata": {},
   "outputs": [],
   "source": [
    "deployment_uid=\"6e6a433b-6459-4bee-bc85-3e05c76bd0ae\"\n",
    "model_uid=\"1ff20819-ad52-443a-9d8e-cc4c043bdadd\"\n",
    "deployment_url = \"https://us-south.ml.cloud.ibm.com/ml/v4/deployments/germanriskrating/predictions?version=2021-05-01\""
   ]
  },
  {
   "cell_type": "markdown",
   "metadata": {},
   "source": [
    "This code removes previous subscriptions to the German Credit model to refresh the monitors with the new model and new data."
   ]
  },
  {
   "cell_type": "code",
   "execution_count": 31,
   "metadata": {
    "scrolled": true
   },
   "outputs": [],
   "source": [
    "subscriptions = wos_client.subscriptions.list().result.subscriptions\n",
    "for subscription in subscriptions:\n",
    "    sub_model_id = subscription.entity.asset.asset_id\n",
    "    if sub_model_id == model_uid:\n",
    "        wos_client.subscriptions.delete(subscription.metadata.id)\n",
    "        print(\"Deleted existing subscription for model\", sub_model_id)"
   ]
  },
  {
   "cell_type": "markdown",
   "metadata": {},
   "source": [
    "This code creates the model subscription in OpenScale using the Python client API. Note that we need to provide the model unique identifier, and some information about the model itself."
   ]
  },
  {
   "cell_type": "code",
   "execution_count": 38,
   "metadata": {
    "tags": []
   },
   "outputs": [],
   "source": [
    "ASSET_NAME = \"MY-workshop-SDK-asset\"\n",
    "asset = Asset(\n",
    "    asset_id=model_uid,\n",
    "    name = ASSET_NAME,\n",
    "    url=deployment_url,\n",
    "    asset_type=AssetTypes.MODEL,\n",
    "    input_data_type=InputDataType.STRUCTURED,\n",
    "    problem_type=ProblemType.BINARY_CLASSIFICATION\n",
    ")\n",
    "asset_deployment = AssetDeploymentRequest(\n",
    "    deployment_id=deployment_uid,\n",
    "    name=\"MY-workshop-SDK-asset\",\n",
    "    deployment_type=DeploymentTypes.ONLINE,\n",
    "    url=deployment_url\n",
    ")\n",
    "# training_data_reference = TrainingDataReference(\n",
    "#     type=\"cos\",\n",
    "#     location=COSTrainingDataReferenceLocation(\n",
    "#         bucket=BUCKET_NAME,\n",
    "#         file_name=training_data_file_name\n",
    "#     ),\n",
    "#     connection=COSTrainingDataReferenceConnection.from_dict(\n",
    "#         {\n",
    "#             \"resource_instance_id\": COS_RESOURCE_CRN,\n",
    "#             \"url\": COS_ENDPOINT,\n",
    "#             \"api_key\": COS_API_KEY_ID,\n",
    "#             \"iam_url\": \"https://iam.bluemix.net/oidc/token\"\n",
    "#         }\n",
    "#     )\n",
    "# )\n",
    "asset_properties_request = AssetPropertiesRequest(\n",
    "    label_column=\"Risk\",\n",
    "    probability_fields=[\"probability\"],\n",
    "    prediction_field=\"prediction\",\n",
    "    feature_fields=[\"CheckingStatus\",\"LoanDuration\",\"CreditHistory\",\"LoanPurpose\",\"LoanAmount\",\"ExistingSavings\",\"EmploymentDuration\",\"InstallmentPercent\",\"Sex\",\"OthersOnLoan\",\"CurrentResidenceDuration\",\"OwnsProperty\",\"Age\",\"InstallmentPlans\",\"Housing\",\"ExistingCreditsCount\",\"Job\",\"Dependents\",\"Telephone\",\"ForeignWorker\"],\n",
    "    categorical_fields=[\"CheckingStatus\",\"CreditHistory\",\"LoanPurpose\",\"ExistingSavings\",\"EmploymentDuration\",\"Sex\",\"OthersOnLoan\",\"OwnsProperty\",\"InstallmentPlans\",\"Housing\",\"Job\",\"Telephone\",\"ForeignWorker\"],\n",
    "    # training_data_reference=training_data_reference\n",
    "    #,training_data_schema=training_data_schema\n",
    ")"
   ]
  },
  {
   "cell_type": "code",
   "execution_count": 39,
   "metadata": {
    "tags": []
   },
   "outputs": [
    {
     "name": "stdout",
     "output_type": "stream",
     "text": [
      "\n",
      "\n",
      "=============================================================================\n",
      "\n",
      " Waiting for end of adding subscription 112ef77a-677d-4774-a434-822882fd28a4 \n",
      "\n",
      "=============================================================================\n",
      "\n",
      "\n",
      "\n",
      "active\n",
      "\n",
      "-------------------------------------------\n",
      " Successfully finished adding subscription \n",
      "-------------------------------------------\n",
      "\n",
      "\n",
      "{\n",
      "  \"metadata\": {\n",
      "    \"id\": \"112ef77a-677d-4774-a434-822882fd28a4\",\n",
      "    \"crn\": \"crn:v1:bluemix:public:aiopenscale:us-south:a/a8b6f41c856d4312a3bc7a99e5eab392:936547e2-5ada-4f38-a9dd-0258b445fd3e:subscription:112ef77a-677d-4774-a434-822882fd28a4\",\n",
      "    \"url\": \"/v2/subscriptions/112ef77a-677d-4774-a434-822882fd28a4\",\n",
      "    \"created_at\": \"2024-07-12T05:42:57.444000Z\",\n",
      "    \"created_by\": \"IBMid-6980005E2J\",\n",
      "    \"modified_at\": \"2024-07-12T05:43:01.238000Z\",\n",
      "    \"modified_by\": \"IBMid-6980005E2J\"\n",
      "  },\n",
      "  \"entity\": {\n",
      "    \"data_mart_id\": \"936547e2-5ada-4f38-a9dd-0258b445fd3e\",\n",
      "    \"service_provider_id\": \"ad1d980a-e1b2-445e-a3bf-770b41fca09f\",\n",
      "    \"asset\": {\n",
      "      \"asset_id\": \"1ff20819-ad52-443a-9d8e-cc4c043bdadd\",\n",
      "      \"url\": \"https://us-south.ml.cloud.ibm.com/ml/v4/deployments/germanriskrating/predictions?version=2021-05-01\",\n",
      "      \"name\": \"MY-workshop-SDK-asset\",\n",
      "      \"asset_type\": \"model\",\n",
      "      \"problem_type\": \"binary\",\n",
      "      \"input_data_type\": \"structured\"\n",
      "    },\n",
      "    \"asset_properties\": {\n",
      "      \"output_data_schema\": {\n",
      "        \"type\": \"struct\",\n",
      "        \"fields\": [\n",
      "          {\n",
      "            \"metadata\": {\n",
      "              \"modeling_role\": \"record-id\",\n",
      "              \"primary_key\": true\n",
      "            },\n",
      "            \"name\": \"scoring_id\",\n",
      "            \"nullable\": false,\n",
      "            \"type\": \"string\"\n",
      "          },\n",
      "          {\n",
      "            \"metadata\": {\n",
      "              \"modeling_role\": \"record-timestamp\"\n",
      "            },\n",
      "            \"name\": \"scoring_timestamp\",\n",
      "            \"nullable\": false,\n",
      "            \"type\": \"timestamp\"\n",
      "          },\n",
      "          {\n",
      "            \"metadata\": {},\n",
      "            \"name\": \"deployment_id\",\n",
      "            \"nullable\": false,\n",
      "            \"type\": \"string\"\n",
      "          },\n",
      "          {\n",
      "            \"metadata\": {},\n",
      "            \"name\": \"asset_revision\",\n",
      "            \"nullable\": true,\n",
      "            \"type\": \"string\"\n",
      "          }\n",
      "        ]\n",
      "      },\n",
      "      \"label_column\": \"Risk\",\n",
      "      \"prediction_field\": \"prediction\",\n",
      "      \"feature_fields\": [\n",
      "        \"CheckingStatus\",\n",
      "        \"LoanDuration\",\n",
      "        \"CreditHistory\",\n",
      "        \"LoanPurpose\",\n",
      "        \"LoanAmount\",\n",
      "        \"ExistingSavings\",\n",
      "        \"EmploymentDuration\",\n",
      "        \"InstallmentPercent\",\n",
      "        \"Sex\",\n",
      "        \"OthersOnLoan\",\n",
      "        \"CurrentResidenceDuration\",\n",
      "        \"OwnsProperty\",\n",
      "        \"Age\",\n",
      "        \"InstallmentPlans\",\n",
      "        \"Housing\",\n",
      "        \"ExistingCreditsCount\",\n",
      "        \"Job\",\n",
      "        \"Dependents\",\n",
      "        \"Telephone\",\n",
      "        \"ForeignWorker\"\n",
      "      ],\n",
      "      \"categorical_fields\": [\n",
      "        \"CheckingStatus\",\n",
      "        \"CreditHistory\",\n",
      "        \"LoanPurpose\",\n",
      "        \"ExistingSavings\",\n",
      "        \"EmploymentDuration\",\n",
      "        \"Sex\",\n",
      "        \"OthersOnLoan\",\n",
      "        \"OwnsProperty\",\n",
      "        \"InstallmentPlans\",\n",
      "        \"Housing\",\n",
      "        \"Job\",\n",
      "        \"Telephone\",\n",
      "        \"ForeignWorker\"\n",
      "      ],\n",
      "      \"probability_fields\": [\n",
      "        \"probability\"\n",
      "      ]\n",
      "    },\n",
      "    \"deployment\": {\n",
      "      \"deployment_id\": \"6e6a433b-6459-4bee-bc85-3e05c76bd0ae\",\n",
      "      \"url\": \"https://us-south.ml.cloud.ibm.com/ml/v4/deployments/germanriskrating/predictions?version=2021-05-01\",\n",
      "      \"name\": \"MY-workshop-SDK-asset\",\n",
      "      \"deployment_type\": \"online\"\n",
      "    },\n",
      "    \"status\": {\n",
      "      \"state\": \"active\"\n",
      "    }\n",
      "  }\n",
      "}\n"
     ]
    }
   ],
   "source": [
    "subscription_details = wos_client.subscriptions.add(\n",
    "        data_mart_id=data_mart_id,\n",
    "        service_provider_id=service_provider_id,\n",
    "        asset=asset,\n",
    "        deployment=asset_deployment,\n",
    "        asset_properties=asset_properties_request,background_mode = False).result\n",
    "subscription_id = subscription_details.metadata.id\n",
    "print(subscription_details)"
   ]
  },
  {
   "cell_type": "code",
   "execution_count": 48,
   "metadata": {
    "tags": []
   },
   "outputs": [
    {
     "name": "stdout",
     "output_type": "stream",
     "text": [
      "Payload data set id: b393b03b-515c-4d5e-89ce-93105293c390\n"
     ]
    }
   ],
   "source": [
    "import time\n",
    "\n",
    "time.sleep(5)\n",
    "payload_data_set_id = None\n",
    "payload_data_set_id = wos_client.data_sets.list(type=DataSetTypes.PAYLOAD_LOGGING, \n",
    "                                                target_target_id=subscription_id, \n",
    "                                                target_target_type=TargetTypes.SUBSCRIPTION).result.data_sets[0].metadata.id\n",
    "if payload_data_set_id is None:\n",
    "    print(\"Payload data set not found. Please check subscription status.\")\n",
    "else:\n",
    "    print(\"Payload data set id:\", payload_data_set_id)"
   ]
  },
  {
   "cell_type": "code",
   "execution_count": 49,
   "metadata": {},
   "outputs": [
    {
     "data": {
      "text/html": [
       "<HTML>\n",
       "        <body>\n",
       "            <h3>Data sets</h3>\n",
       "            <table style='border: 1px solid #dddddd; font-family: Courier'>\n",
       "                <th style='border: 1px solid #dddddd'>data_mart_id</th><th style='border: 1px solid #dddddd'>status</th><th style='border: 1px solid #dddddd'>target_id</th><th style='border: 1px solid #dddddd'>target_type</th><th style='border: 1px solid #dddddd'>type</th><th style='border: 1px solid #dddddd'>created_at</th><th style='border: 1px solid #dddddd'>id</th>\n",
       "                <tr><td style='border: 1px solid #dddddd'>936547e2-5ada-4f38-a9dd-0258b445fd3e</td><td style='border: 1px solid #dddddd'>active</td><td style='border: 1px solid #dddddd'>112ef77a-677d-4774-a434-822882fd28a4</td><td style='border: 1px solid #dddddd'>subscription</td><td style='border: 1px solid #dddddd'>payload_logging_error</td><td style='border: 1px solid #dddddd'>2024-07-12 05:43:01.028000+00:00</td><td style='border: 1px solid #dddddd'>8a350665-a880-4ab6-a52d-311f096e35df</td></tr><tr><td style='border: 1px solid #dddddd'>936547e2-5ada-4f38-a9dd-0258b445fd3e</td><td style='border: 1px solid #dddddd'>active</td><td style='border: 1px solid #dddddd'>112ef77a-677d-4774-a434-822882fd28a4</td><td style='border: 1px solid #dddddd'>subscription</td><td style='border: 1px solid #dddddd'>training</td><td style='border: 1px solid #dddddd'>2024-07-12 05:43:00.688000+00:00</td><td style='border: 1px solid #dddddd'>f8f1e5c8-71e0-4f35-8a36-e59c2481c93c</td></tr><tr><td style='border: 1px solid #dddddd'>936547e2-5ada-4f38-a9dd-0258b445fd3e</td><td style='border: 1px solid #dddddd'>active</td><td style='border: 1px solid #dddddd'>112ef77a-677d-4774-a434-822882fd28a4</td><td style='border: 1px solid #dddddd'>subscription</td><td style='border: 1px solid #dddddd'>manual_labeling</td><td style='border: 1px solid #dddddd'>2024-07-12 05:43:00.326000+00:00</td><td style='border: 1px solid #dddddd'>d6feb99f-317d-414a-bfb5-db4410ca348f</td></tr><tr><td style='border: 1px solid #dddddd'>936547e2-5ada-4f38-a9dd-0258b445fd3e</td><td style='border: 1px solid #dddddd'>active</td><td style='border: 1px solid #dddddd'>112ef77a-677d-4774-a434-822882fd28a4</td><td style='border: 1px solid #dddddd'>subscription</td><td style='border: 1px solid #dddddd'>payload_logging</td><td style='border: 1px solid #dddddd'>2024-07-12 05:42:59.967000+00:00</td><td style='border: 1px solid #dddddd'>b393b03b-515c-4d5e-89ce-93105293c390</td></tr><tr><td style='border: 1px solid #dddddd'>936547e2-5ada-4f38-a9dd-0258b445fd3e</td><td style='border: 1px solid #dddddd'>active</td><td style='border: 1px solid #dddddd'>04918f6e-d712-4a4f-bf69-40a7e81d820d</td><td style='border: 1px solid #dddddd'>subscription</td><td style='border: 1px solid #dddddd'>model_health</td><td style='border: 1px solid #dddddd'>2024-07-12 02:48:52.313000+00:00</td><td style='border: 1px solid #dddddd'>497d04c1-6fef-4fc8-b0f4-66f56ca699f8</td></tr><tr><td style='border: 1px solid #dddddd'>936547e2-5ada-4f38-a9dd-0258b445fd3e</td><td style='border: 1px solid #dddddd'>active</td><td style='border: 1px solid #dddddd'>04918f6e-d712-4a4f-bf69-40a7e81d820d</td><td style='border: 1px solid #dddddd'>subscription</td><td style='border: 1px solid #dddddd'>payload_logging</td><td style='border: 1px solid #dddddd'>2024-07-12 02:48:44.101000+00:00</td><td style='border: 1px solid #dddddd'>722f1365-35a9-4d95-8df4-d494fb63992f</td></tr><tr><td style='border: 1px solid #dddddd'>936547e2-5ada-4f38-a9dd-0258b445fd3e</td><td style='border: 1px solid #dddddd'>active</td><td style='border: 1px solid #dddddd'>04918f6e-d712-4a4f-bf69-40a7e81d820d</td><td style='border: 1px solid #dddddd'>subscription</td><td style='border: 1px solid #dddddd'>explanations</td><td style='border: 1px solid #dddddd'>2024-07-12 05:04:09.776000+00:00</td><td style='border: 1px solid #dddddd'>870c33ef-058b-4535-b13c-745d32ce2b44</td></tr><tr><td style='border: 1px solid #dddddd'>936547e2-5ada-4f38-a9dd-0258b445fd3e</td><td style='border: 1px solid #dddddd'>active</td><td style='border: 1px solid #dddddd'>04918f6e-d712-4a4f-bf69-40a7e81d820d</td><td style='border: 1px solid #dddddd'>subscription</td><td style='border: 1px solid #dddddd'>feedback</td><td style='border: 1px solid #dddddd'>2024-07-12 02:49:00.801000+00:00</td><td style='border: 1px solid #dddddd'>b7eabff5-b65f-47c7-af96-1976cd1972d1</td></tr><tr><td style='border: 1px solid #dddddd'>936547e2-5ada-4f38-a9dd-0258b445fd3e</td><td style='border: 1px solid #dddddd'>active</td><td style='border: 1px solid #dddddd'>04918f6e-d712-4a4f-bf69-40a7e81d820d</td><td style='border: 1px solid #dddddd'>subscription</td><td style='border: 1px solid #dddddd'>payload_logging_error</td><td style='border: 1px solid #dddddd'>2024-07-12 02:48:46.096000+00:00</td><td style='border: 1px solid #dddddd'>9ee8de10-93ea-4915-90d8-f35dc9b0bc5c</td></tr><tr><td style='border: 1px solid #dddddd'>936547e2-5ada-4f38-a9dd-0258b445fd3e</td><td style='border: 1px solid #dddddd'>active</td><td style='border: 1px solid #dddddd'>04918f6e-d712-4a4f-bf69-40a7e81d820d</td><td style='border: 1px solid #dddddd'>subscription</td><td style='border: 1px solid #dddddd'>training</td><td style='border: 1px solid #dddddd'>2024-07-12 02:48:45.526000+00:00</td><td style='border: 1px solid #dddddd'>71fb576e-88b5-4c97-b6fb-b0396938868d</td></tr>\n",
       "            </table>\n",
       "        </body>\n",
       "        </HTML>"
      ],
      "text/plain": [
       "<IPython.core.display.HTML object>"
      ]
     },
     "metadata": {},
     "output_type": "display_data"
    },
    {
     "name": "stdout",
     "output_type": "stream",
     "text": [
      "Note: First 10 records were displayed.\n"
     ]
    }
   ],
   "source": [
    "wos_client.data_sets.show()"
   ]
  },
  {
   "cell_type": "markdown",
   "metadata": {},
   "source": [
    "\n",
    "\n",
    "Get subscription list"
   ]
  },
  {
   "cell_type": "code",
   "execution_count": 50,
   "metadata": {
    "scrolled": true
   },
   "outputs": [
    {
     "data": {
      "text/html": [
       "<HTML>\n",
       "        <body>\n",
       "            <h3>Subscriptions</h3>\n",
       "            <table style='border: 1px solid #dddddd; font-family: Courier'>\n",
       "                <th style='border: 1px solid #dddddd'>asset_id</th><th style='border: 1px solid #dddddd'>asset_name</th><th style='border: 1px solid #dddddd'>data_mart_id</th><th style='border: 1px solid #dddddd'>deployment_id</th><th style='border: 1px solid #dddddd'>deployment_name</th><th style='border: 1px solid #dddddd'>service_provider_id</th><th style='border: 1px solid #dddddd'>status</th><th style='border: 1px solid #dddddd'>created_at</th><th style='border: 1px solid #dddddd'>id</th>\n",
       "                <tr><td style='border: 1px solid #dddddd'>1ff20819-ad52-443a-9d8e-cc4c043bdadd</td><td style='border: 1px solid #dddddd'>MY-workshop-SDK-asset</td><td style='border: 1px solid #dddddd'>936547e2-5ada-4f38-a9dd-0258b445fd3e</td><td style='border: 1px solid #dddddd'>6e6a433b-6459-4bee-bc85-3e05c76bd0ae</td><td style='border: 1px solid #dddddd'>MY-workshop-SDK-asset</td><td style='border: 1px solid #dddddd'>ad1d980a-e1b2-445e-a3bf-770b41fca09f</td><td style='border: 1px solid #dddddd'>active</td><td style='border: 1px solid #dddddd'>2024-07-12 05:42:57.444000+00:00</td><td style='border: 1px solid #dddddd'>112ef77a-677d-4774-a434-822882fd28a4</td></tr><tr><td style='border: 1px solid #dddddd'>ac68a759-36a7-4f5c-ad8f-e6a6a246d38f</td><td style='border: 1px solid #dddddd'>AutoAI policy risk - P4 Ridge - Model</td><td style='border: 1px solid #dddddd'>936547e2-5ada-4f38-a9dd-0258b445fd3e</td><td style='border: 1px solid #dddddd'>992082f1-8e0b-4d75-a338-89c7346f5539</td><td style='border: 1px solid #dddddd'>emartens - Auto AI Policy risk Production</td><td style='border: 1px solid #dddddd'>adcc24a9-fded-4a7b-b4bb-c948284affc4</td><td style='border: 1px solid #dddddd'>active</td><td style='border: 1px solid #dddddd'>2024-07-12 02:48:40.458000+00:00</td><td style='border: 1px solid #dddddd'>04918f6e-d712-4a4f-bf69-40a7e81d820d</td></tr><tr><td style='border: 1px solid #dddddd'>f886e31e-e031-4580-8cd1-c8dd3d1ec10d</td><td style='border: 1px solid #dddddd'>AutoAI policy risk - P4 Ridge - Model</td><td style='border: 1px solid #dddddd'>936547e2-5ada-4f38-a9dd-0258b445fd3e</td><td style='border: 1px solid #dddddd'>3e17c281-41ba-438f-babc-3ac8ff419750</td><td style='border: 1px solid #dddddd'>emartens - Policy risk testing</td><td style='border: 1px solid #dddddd'>be88a940-b07c-4c49-8523-2bd1c3271a97</td><td style='border: 1px solid #dddddd'>active</td><td style='border: 1px solid #dddddd'>2024-07-11 17:14:23.517000+00:00</td><td style='border: 1px solid #dddddd'>20ef4bd4-4731-45d4-a6ee-49a6e4acf036</td></tr><tr><td style='border: 1px solid #dddddd'>4a4fcbe5-b4c2-404e-80b3-d04f7936f1f1</td><td style='border: 1px solid #dddddd'>AutoAI policy risk - P4 Ridge - Model</td><td style='border: 1px solid #dddddd'>936547e2-5ada-4f38-a9dd-0258b445fd3e</td><td style='border: 1px solid #dddddd'>d6bfbf29-9361-4875-af1b-ba2a5b021ee0</td><td style='border: 1px solid #dddddd'>emartens - Policy risk testing</td><td style='border: 1px solid #dddddd'>be88a940-b07c-4c49-8523-2bd1c3271a97</td><td style='border: 1px solid #dddddd'>active</td><td style='border: 1px solid #dddddd'>2024-07-11 14:37:28.164000+00:00</td><td style='border: 1px solid #dddddd'>220f651b-f926-4078-be30-436d2b65ccc6</td></tr><tr><td style='border: 1px solid #dddddd'>e1553920-c2a2-4d81-8105-54072bc882ba</td><td style='border: 1px solid #dddddd'>Insurance claim suggested next steps</td><td style='border: 1px solid #dddddd'>936547e2-5ada-4f38-a9dd-0258b445fd3e</td><td style='border: 1px solid #dddddd'>aa8f2bbc-6969-41c1-a603-3dbfc4e3e17e</td><td style='border: 1px solid #dddddd'>Claim next steps deployment</td><td style='border: 1px solid #dddddd'>65053fd8-fa36-439c-9c35-e176f98d003a</td><td style='border: 1px solid #dddddd'>active</td><td style='border: 1px solid #dddddd'>2024-07-11 10:01:19.111000+00:00</td><td style='border: 1px solid #dddddd'>a92e8fed-be05-43c6-b290-47dd35178e14</td></tr><tr><td style='border: 1px solid #dddddd'>4c00b639-6121-4b4f-90ea-af1726122386</td><td style='border: 1px solid #dddddd'>Insurance claim suggested next steps</td><td style='border: 1px solid #dddddd'>936547e2-5ada-4f38-a9dd-0258b445fd3e</td><td style='border: 1px solid #dddddd'>4948041f-b674-4fb8-80a6-46ba883c3ded</td><td style='border: 1px solid #dddddd'>Insurance claim suggested next steps</td><td style='border: 1px solid #dddddd'>0e38f47f-35e9-4aa2-8266-8a87eabb573f</td><td style='border: 1px solid #dddddd'>active</td><td style='border: 1px solid #dddddd'>2024-07-11 09:54:53.167000+00:00</td><td style='border: 1px solid #dddddd'>9e44d0b3-e129-4cd0-8b8b-1335dedf2657</td></tr><tr><td style='border: 1px solid #dddddd'>f8d2e144-0fc7-47b3-ab60-aadbb8bd894a</td><td style='border: 1px solid #dddddd'>Insurance claim summarization</td><td style='border: 1px solid #dddddd'>936547e2-5ada-4f38-a9dd-0258b445fd3e</td><td style='border: 1px solid #dddddd'>213cd45b-cf7e-4b3a-ba30-1d5a67422953</td><td style='border: 1px solid #dddddd'>Insurance claim summarization</td><td style='border: 1px solid #dddddd'>6bc45372-99e9-49b5-a1ed-a6e31fdf479a</td><td style='border: 1px solid #dddddd'>active</td><td style='border: 1px solid #dddddd'>2024-07-11 09:13:26.682000+00:00</td><td style='border: 1px solid #dddddd'>ce7681b9-8db4-46a8-a748-30f085640429</td></tr><tr><td style='border: 1px solid #dddddd'>6f12ebac-75d0-47ba-a5ce-6daf4e08aec5</td><td style='border: 1px solid #dddddd'>Insurance claim summarization</td><td style='border: 1px solid #dddddd'>936547e2-5ada-4f38-a9dd-0258b445fd3e</td><td style='border: 1px solid #dddddd'>a0dd8bd6-72c5-47ef-8477-b893db4f1ff3</td><td style='border: 1px solid #dddddd'>Insurance claim summarization</td><td style='border: 1px solid #dddddd'>0e38f47f-35e9-4aa2-8266-8a87eabb573f</td><td style='border: 1px solid #dddddd'>active</td><td style='border: 1px solid #dddddd'>2024-07-11 07:55:52.080000+00:00</td><td style='border: 1px solid #dddddd'>8aa102ab-f867-4c0f-a4dc-570a4c678e44</td></tr><tr><td style='border: 1px solid #dddddd'>a29c2064-b409-4035-a52f-9c48550f998a</td><td style='border: 1px solid #dddddd'>Insurance claim summarization</td><td style='border: 1px solid #dddddd'>936547e2-5ada-4f38-a9dd-0258b445fd3e</td><td style='border: 1px solid #dddddd'>aceb145b-307d-4bb8-ae40-c46d4f12d96b</td><td style='border: 1px solid #dddddd'>Insurance claims summarization deployment</td><td style='border: 1px solid #dddddd'>0f6aa3f9-09cb-4699-abb1-49e40229fa7c</td><td style='border: 1px solid #dddddd'>active</td><td style='border: 1px solid #dddddd'>2024-07-10 06:39:18.619000+00:00</td><td style='border: 1px solid #dddddd'>f5dd5614-9af2-4317-b83b-a0ccb14b7a96</td></tr><tr><td style='border: 1px solid #dddddd'>e90fbf6a-5f62-41ae-943d-17a3f7f633f0</td><td style='border: 1px solid #dddddd'>Insurance claim summarization</td><td style='border: 1px solid #dddddd'>936547e2-5ada-4f38-a9dd-0258b445fd3e</td><td style='border: 1px solid #dddddd'>92fe413f-a8e0-4f72-b437-bab353d14391</td><td style='border: 1px solid #dddddd'>Insurance claim summarization</td><td style='border: 1px solid #dddddd'>351cef31-ed38-4cf7-b38e-265540b25585</td><td style='border: 1px solid #dddddd'>active</td><td style='border: 1px solid #dddddd'>2024-07-10 06:07:11.336000+00:00</td><td style='border: 1px solid #dddddd'>168a9d0e-37e5-4d11-8d7c-2794929363ef</td></tr>\n",
       "            </table>\n",
       "        </body>\n",
       "        </HTML>"
      ],
      "text/plain": [
       "<IPython.core.display.HTML object>"
      ]
     },
     "metadata": {},
     "output_type": "display_data"
    },
    {
     "name": "stdout",
     "output_type": "stream",
     "text": [
      "Note: First 10 records were displayed.\n"
     ]
    }
   ],
   "source": [
    "wos_client.subscriptions.show()"
   ]
  },
  {
   "cell_type": "markdown",
   "metadata": {},
   "source": [
    "### Score the model so we can configure monitors"
   ]
  },
  {
   "cell_type": "markdown",
   "metadata": {},
   "source": [
    "Now that the WML service has been bound and the subscription has been created, we need to send a request to the model before we configure OpenScale. This allows OpenScale to create a payload log in the datamart with the correct schema, so it can capture data coming into and out of the model. The sends a few records for predictions."
   ]
  },
  {
   "cell_type": "code",
   "execution_count": 54,
   "metadata": {},
   "outputs": [
    {
     "data": {
      "text/plain": [
       "'SUCCESS'"
      ]
     },
     "execution_count": 54,
     "metadata": {},
     "output_type": "execute_result"
    }
   ],
   "source": [
    "import json\n",
    "from ibm_watson_machine_learning import APIClient\n",
    "\n",
    "wml_client = APIClient(WML_CREDENTIALS)\n",
    "wml_client.set.default_space(WML_SPACE_ID)"
   ]
  },
  {
   "cell_type": "code",
   "execution_count": 55,
   "metadata": {
    "scrolled": true,
    "tags": []
   },
   "outputs": [
    {
     "name": "stdout",
     "output_type": "stream",
     "text": [
      "Single record scoring result: \n",
      " fields: ['prediction', 'probability'] \n",
      " values:  ['No Risk', [0.6513993276904027, 0.34860067230959735]]\n"
     ]
    }
   ],
   "source": [
    "fields = [\"CheckingStatus\",\"LoanDuration\",\"CreditHistory\",\"LoanPurpose\",\"LoanAmount\",\"ExistingSavings\",\"EmploymentDuration\",\"InstallmentPercent\",\"Sex\",\"OthersOnLoan\",\"CurrentResidenceDuration\",\"OwnsProperty\",\"Age\",\"InstallmentPlans\",\"Housing\",\"ExistingCreditsCount\",\"Job\",\"Dependents\",\"Telephone\",\"ForeignWorker\"]\n",
    "values = [\n",
    "  [\"no_checking\",10,\"credits_paid_to_date\",\"car_new\",1343,\"100_to_500\",\"1_to_4\",2,\"female\",\"none\",3,\"savings_insurance\",46,\"none\",\"own\",2,\"skilled\",1,\"none\",\"yes\"],\n",
    "  [\"no_checking\",20,\"prior_payments_delayed\",\"furniture\",4567,\"500_to_1000\",\"1_to_4\",4,\"male\",\"none\",4,\"savings_insurance\",36,\"none\",\"free\",2,\"management_self-employed\",1,\"none\",\"yes\"],\n",
    "  [\"0_to_200\",24,\"all_credits_paid_back\",\"car_new\",863,\"less_100\",\"less_1\",2,\"female\",\"co-applicant\",2,\"real_estate\",38,\"none\",\"own\",1,\"skilled\",1,\"none\",\"yes\"],\n",
    "  [\"0_to_200\",17,\"no_credits\",\"car_new\",2368,\"less_100\",\"1_to_4\",3,\"female\",\"none\",3,\"real_estate\",29,\"none\",\"own\",1,\"skilled\",1,\"none\",\"yes\"],\n",
    "  [\"0_to_200\",66,\"no_credits\",\"car_new\",250,\"less_100\",\"unemployed\",2,\"female\",\"none\",3,\"real_estate\",23,\"none\",\"rent\",1,\"management_self-employed\",1,\"none\",\"yes\"],\n",
    "  [\"no_checking\",14,\"credits_paid_to_date\",\"car_new\",832,\"100_to_500\",\"1_to_4\",2,\"male\",\"none\",2,\"real_estate\",42,\"none\",\"own\",1,\"skilled\",1,\"none\",\"yes\"],\n",
    "  [\"no_checking\",35,\"outstanding_credit\",\"appliances\",5696,\"unknown\",\"greater_7\",4,\"male\",\"co-applicant\",4,\"unknown\",54,\"none\",\"free\",2,\"skilled\",1,\"yes\",\"yes\"],\n",
    "  [\"0_to_200\",23,\"prior_payments_delayed\",\"retraining\",1375,\"100_to_500\",\"4_to_7\",3,\"male\",\"none\",3,\"real_estate\",37,\"none\",\"own\",2,\"management_self-employed\",1,\"none\",\"yes\"]\n",
    "]\n",
    "\n",
    "payload_scoring = {\"input_data\": [{\"fields\": fields, \"values\": values}]}\n",
    "predictions = wml_client.deployments.score(deployment_uid, payload_scoring)\n",
    "\n",
    "print(\"Single record scoring result:\", \"\\n fields:\", predictions[\"predictions\"][0][\"fields\"], \"\\n values: \", predictions[\"predictions\"][0][\"values\"][0])"
   ]
  },
  {
   "cell_type": "markdown",
   "metadata": {},
   "source": [
    "## Check if WML payload logging worked else manually store payload records"
   ]
  },
  {
   "cell_type": "code",
   "execution_count": 56,
   "metadata": {
    "tags": []
   },
   "outputs": [
    {
     "name": "stdout",
     "output_type": "stream",
     "text": [
      "Number of records in the payload logging table: 8\n"
     ]
    }
   ],
   "source": [
    "import uuid\n",
    "from ibm_watson_openscale.supporting_classes.payload_record import PayloadRecord\n",
    "time.sleep(5)\n",
    "pl_records_count = wos_client.data_sets.get_records_count(payload_data_set_id)\n",
    "print(\"Number of records in the payload logging table: {}\".format(pl_records_count))\n",
    "if pl_records_count == 0:\n",
    "    print(\"Payload logging did not happen, performing explicit payload logging.\")\n",
    "    wos_client.data_sets.store_records(data_set_id=payload_data_set_id, request_body=[PayloadRecord(\n",
    "                   scoring_id=str(uuid.uuid4()),\n",
    "                   request=payload_scoring,\n",
    "                   response={\"fields\": predictions['predictions'][0]['fields'], \"values\":predictions['predictions'][0]['values']},\n",
    "                   response_time=460\n",
    "               )],background_mode = False)\n",
    "    time.sleep(5)\n",
    "    pl_records_count = wos_client.data_sets.get_records_count(payload_data_set_id)\n",
    "    print(\"Number of records in the payload logging table: {}\".format(pl_records_count))"
   ]
  },
  {
   "cell_type": "markdown",
   "metadata": {},
   "source": [
    "# Quality monitoring and feedback logging <a name=\"quality\"></a>"
   ]
  },
  {
   "cell_type": "markdown",
   "metadata": {},
   "source": [
    "## Enable quality monitoring"
   ]
  },
  {
   "cell_type": "markdown",
   "metadata": {},
   "source": [
    "The code below waits ten seconds to allow the payload logging table to be set up before it begins enabling monitors. First, it turns on the quality (accuracy) monitor and sets an alert threshold of 70%. OpenScale will show an alert on the dashboard if the model accuracy measurement (area under the curve, in the case of a binary classifier) falls below this threshold.\n",
    "\n",
    "The second paramater supplied, min_records, specifies the minimum number of feedback records OpenScale needs before it calculates a new measurement. The quality monitor runs hourly, but the accuracy reading in the dashboard will not change until an additional 50 feedback records have been added, via the user interface, the Python client, or the supplied feedback endpoint."
   ]
  },
  {
   "cell_type": "code",
   "execution_count": 57,
   "metadata": {
    "scrolled": true,
    "tags": []
   },
   "outputs": [
    {
     "name": "stdout",
     "output_type": "stream",
     "text": [
      "\n",
      "\n",
      "===================================================================================\n",
      "\n",
      " Waiting for end of monitor instance creation 30f90ac0-61ee-4866-80f9-8b1899e59803 \n",
      "\n",
      "===================================================================================\n",
      "\n",
      "\n",
      "\n",
      "preparing\n",
      "active\n",
      "\n",
      "---------------------------------------\n",
      " Monitor instance successfully created \n",
      "---------------------------------------\n",
      "\n",
      "\n"
     ]
    }
   ],
   "source": [
    "import time\n",
    "\n",
    "time.sleep(10)\n",
    "target = Target(\n",
    "        target_type=TargetTypes.SUBSCRIPTION,\n",
    "        target_id=subscription_id\n",
    ")\n",
    "parameters = {\n",
    "    \"min_feedback_data_size\": 50\n",
    "}\n",
    "thresholds = [\n",
    "                {\n",
    "                    \"metric_id\": \"area_under_roc\",\n",
    "                    \"type\": \"lower_limit\",\n",
    "                    \"value\": .80\n",
    "                }\n",
    "            ]\n",
    "quality_monitor_details = wos_client.monitor_instances.create(\n",
    "    data_mart_id=data_mart_id,\n",
    "    background_mode=False,\n",
    "    monitor_definition_id=wos_client.monitor_definitions.MONITORS.QUALITY.ID,\n",
    "    target=target,\n",
    "    parameters=parameters,\n",
    "    thresholds=thresholds\n",
    ").result"
   ]
  },
  {
   "cell_type": "code",
   "execution_count": 58,
   "metadata": {},
   "outputs": [
    {
     "data": {
      "text/plain": [
       "'30f90ac0-61ee-4866-80f9-8b1899e59803'"
      ]
     },
     "execution_count": 58,
     "metadata": {},
     "output_type": "execute_result"
    }
   ],
   "source": [
    "quality_monitor_instance_id = quality_monitor_details.metadata.id\n",
    "quality_monitor_instance_id"
   ]
  },
  {
   "cell_type": "markdown",
   "metadata": {},
   "source": [
    "## Feedback logging"
   ]
  },
  {
   "cell_type": "markdown",
   "metadata": {},
   "source": [
    "The code below downloads and stores enough feedback data to meet the minimum threshold so that OpenScale can calculate a new accuracy measurement. It then kicks off the accuracy monitor. The monitors run hourly, or can be initiated via the Python API, the REST API, or the graphical user interface."
   ]
  },
  {
   "cell_type": "code",
   "execution_count": 59,
   "metadata": {
    "tags": []
   },
   "outputs": [
    {
     "name": "stdout",
     "output_type": "stream",
     "text": [
      "rm: additional_feedback_data_v2.json: No such file or directory\n",
      "--2024-07-12 14:56:40--  https://raw.githubusercontent.com/IBM/watson-openscale-samples/main/IBM%20Cloud/WML/assets/data/credit_risk/additional_feedback_data_v2.json\n",
      "Resolving raw.githubusercontent.com (raw.githubusercontent.com)... 2606:50c0:8002::154, 2606:50c0:8003::154, 2606:50c0:8000::154, ...\n",
      "Connecting to raw.githubusercontent.com (raw.githubusercontent.com)|2606:50c0:8002::154|:443... connected.\n",
      "HTTP request sent, awaiting response... 200 OK\n",
      "Length: 50890 (50K) [text/plain]\n",
      "Saving to: ‘additional_feedback_data_v2.json’\n",
      "\n",
      "additional_feedback 100%[===================>]  49.70K  --.-KB/s    in 0.006s  \n",
      "\n",
      "2024-07-12 14:56:41 (8.29 MB/s) - ‘additional_feedback_data_v2.json’ saved [50890/50890]\n",
      "\n"
     ]
    }
   ],
   "source": [
    "!rm additional_feedback_data_v2.json\n",
    "!wget https://raw.githubusercontent.com/IBM/watson-openscale-samples/main/IBM%20Cloud/WML/assets/data/credit_risk/additional_feedback_data_v2.json"
   ]
  },
  {
   "cell_type": "markdown",
   "metadata": {},
   "source": [
    "### Get feedback logging dataset ID"
   ]
  },
  {
   "cell_type": "code",
   "execution_count": 60,
   "metadata": {
    "tags": []
   },
   "outputs": [
    {
     "name": "stdout",
     "output_type": "stream",
     "text": [
      "{\n",
      "  \"data_sets\": [\n",
      "    {\n",
      "      \"metadata\": {\n",
      "        \"id\": \"73c5afdd-e8a5-43b1-bbc8-bf93c6a731eb\",\n",
      "        \"crn\": \"crn:v1:bluemix:public:aiopenscale:us-south:a/181ed6cc388f47bd9d862fe066f9cfce:936547e2-5ada-4f38-a9dd-0258b445fd3e:data_set:73c5afdd-e8a5-43b1-bbc8-bf93c6a731eb\",\n",
      "        \"url\": \"/v2/data_sets/73c5afdd-e8a5-43b1-bbc8-bf93c6a731eb\",\n",
      "        \"created_at\": \"2024-07-12T06:55:45.937000Z\",\n",
      "        \"created_by\": \"iam-ServiceId-2e5c9fda-38bf-4279-9712-cdb3b6f3a7ad\",\n",
      "        \"modified_at\": \"2024-07-12T06:55:46.313000Z\",\n",
      "        \"modified_by\": \"iam-ServiceId-2e5c9fda-38bf-4279-9712-cdb3b6f3a7ad\"\n",
      "      },\n",
      "      \"entity\": {\n",
      "        \"data_mart_id\": \"936547e2-5ada-4f38-a9dd-0258b445fd3e\",\n",
      "        \"name\": \"112ef77a-677d-4774-a434-822882fd28a4_feedback\",\n",
      "        \"description\": \"112ef77a-677d-4774-a434-822882fd28a4_feedback\",\n",
      "        \"type\": \"feedback\",\n",
      "        \"target\": {\n",
      "          \"target_type\": \"subscription\",\n",
      "          \"target_id\": \"112ef77a-677d-4774-a434-822882fd28a4\"\n",
      "        },\n",
      "        \"schema_update_mode\": \"auto\",\n",
      "        \"data_schema\": {\n",
      "          \"type\": \"struct\",\n",
      "          \"fields\": [\n",
      "            {\n",
      "              \"metadata\": {\n",
      "                \"columnInfo\": {\n",
      "                  \"columnLength\": 64\n",
      "                },\n",
      "                \"measure\": \"discrete\",\n",
      "                \"modeling_role\": \"feature\"\n",
      "              },\n",
      "              \"name\": \"CheckingStatus\",\n",
      "              \"nullable\": true,\n",
      "              \"type\": \"string\"\n",
      "            },\n",
      "            {\n",
      "              \"metadata\": {\n",
      "                \"modeling_role\": \"feature\"\n",
      "              },\n",
      "              \"name\": \"LoanDuration\",\n",
      "              \"nullable\": true,\n",
      "              \"type\": \"integer\"\n",
      "            },\n",
      "            {\n",
      "              \"metadata\": {\n",
      "                \"columnInfo\": {\n",
      "                  \"columnLength\": 64\n",
      "                },\n",
      "                \"measure\": \"discrete\",\n",
      "                \"modeling_role\": \"feature\"\n",
      "              },\n",
      "              \"name\": \"CreditHistory\",\n",
      "              \"nullable\": true,\n",
      "              \"type\": \"string\"\n",
      "            },\n",
      "            {\n",
      "              \"metadata\": {\n",
      "                \"columnInfo\": {\n",
      "                  \"columnLength\": 64\n",
      "                },\n",
      "                \"measure\": \"discrete\",\n",
      "                \"modeling_role\": \"feature\"\n",
      "              },\n",
      "              \"name\": \"LoanPurpose\",\n",
      "              \"nullable\": true,\n",
      "              \"type\": \"string\"\n",
      "            },\n",
      "            {\n",
      "              \"metadata\": {\n",
      "                \"modeling_role\": \"feature\"\n",
      "              },\n",
      "              \"name\": \"LoanAmount\",\n",
      "              \"nullable\": true,\n",
      "              \"type\": \"integer\"\n",
      "            },\n",
      "            {\n",
      "              \"metadata\": {\n",
      "                \"columnInfo\": {\n",
      "                  \"columnLength\": 64\n",
      "                },\n",
      "                \"measure\": \"discrete\",\n",
      "                \"modeling_role\": \"feature\"\n",
      "              },\n",
      "              \"name\": \"ExistingSavings\",\n",
      "              \"nullable\": true,\n",
      "              \"type\": \"string\"\n",
      "            },\n",
      "            {\n",
      "              \"metadata\": {\n",
      "                \"columnInfo\": {\n",
      "                  \"columnLength\": 64\n",
      "                },\n",
      "                \"measure\": \"discrete\",\n",
      "                \"modeling_role\": \"feature\"\n",
      "              },\n",
      "              \"name\": \"EmploymentDuration\",\n",
      "              \"nullable\": true,\n",
      "              \"type\": \"string\"\n",
      "            },\n",
      "            {\n",
      "              \"metadata\": {\n",
      "                \"modeling_role\": \"feature\"\n",
      "              },\n",
      "              \"name\": \"InstallmentPercent\",\n",
      "              \"nullable\": true,\n",
      "              \"type\": \"integer\"\n",
      "            },\n",
      "            {\n",
      "              \"metadata\": {\n",
      "                \"columnInfo\": {\n",
      "                  \"columnLength\": 64\n",
      "                },\n",
      "                \"measure\": \"discrete\",\n",
      "                \"modeling_role\": \"feature\"\n",
      "              },\n",
      "              \"name\": \"Sex\",\n",
      "              \"nullable\": true,\n",
      "              \"type\": \"string\"\n",
      "            },\n",
      "            {\n",
      "              \"metadata\": {\n",
      "                \"columnInfo\": {\n",
      "                  \"columnLength\": 64\n",
      "                },\n",
      "                \"measure\": \"discrete\",\n",
      "                \"modeling_role\": \"feature\"\n",
      "              },\n",
      "              \"name\": \"OthersOnLoan\",\n",
      "              \"nullable\": true,\n",
      "              \"type\": \"string\"\n",
      "            },\n",
      "            {\n",
      "              \"metadata\": {\n",
      "                \"modeling_role\": \"feature\"\n",
      "              },\n",
      "              \"name\": \"CurrentResidenceDuration\",\n",
      "              \"nullable\": true,\n",
      "              \"type\": \"integer\"\n",
      "            },\n",
      "            {\n",
      "              \"metadata\": {\n",
      "                \"columnInfo\": {\n",
      "                  \"columnLength\": 64\n",
      "                },\n",
      "                \"measure\": \"discrete\",\n",
      "                \"modeling_role\": \"feature\"\n",
      "              },\n",
      "              \"name\": \"OwnsProperty\",\n",
      "              \"nullable\": true,\n",
      "              \"type\": \"string\"\n",
      "            },\n",
      "            {\n",
      "              \"metadata\": {\n",
      "                \"modeling_role\": \"feature\"\n",
      "              },\n",
      "              \"name\": \"Age\",\n",
      "              \"nullable\": true,\n",
      "              \"type\": \"integer\"\n",
      "            },\n",
      "            {\n",
      "              \"metadata\": {\n",
      "                \"columnInfo\": {\n",
      "                  \"columnLength\": 64\n",
      "                },\n",
      "                \"measure\": \"discrete\",\n",
      "                \"modeling_role\": \"feature\"\n",
      "              },\n",
      "              \"name\": \"InstallmentPlans\",\n",
      "              \"nullable\": true,\n",
      "              \"type\": \"string\"\n",
      "            },\n",
      "            {\n",
      "              \"metadata\": {\n",
      "                \"columnInfo\": {\n",
      "                  \"columnLength\": 64\n",
      "                },\n",
      "                \"measure\": \"discrete\",\n",
      "                \"modeling_role\": \"feature\"\n",
      "              },\n",
      "              \"name\": \"Housing\",\n",
      "              \"nullable\": true,\n",
      "              \"type\": \"string\"\n",
      "            },\n",
      "            {\n",
      "              \"metadata\": {\n",
      "                \"modeling_role\": \"feature\"\n",
      "              },\n",
      "              \"name\": \"ExistingCreditsCount\",\n",
      "              \"nullable\": true,\n",
      "              \"type\": \"integer\"\n",
      "            },\n",
      "            {\n",
      "              \"metadata\": {\n",
      "                \"columnInfo\": {\n",
      "                  \"columnLength\": 64\n",
      "                },\n",
      "                \"measure\": \"discrete\",\n",
      "                \"modeling_role\": \"feature\"\n",
      "              },\n",
      "              \"name\": \"Job\",\n",
      "              \"nullable\": true,\n",
      "              \"type\": \"string\"\n",
      "            },\n",
      "            {\n",
      "              \"metadata\": {\n",
      "                \"modeling_role\": \"feature\"\n",
      "              },\n",
      "              \"name\": \"Dependents\",\n",
      "              \"nullable\": true,\n",
      "              \"type\": \"integer\"\n",
      "            },\n",
      "            {\n",
      "              \"metadata\": {\n",
      "                \"columnInfo\": {\n",
      "                  \"columnLength\": 64\n",
      "                },\n",
      "                \"measure\": \"discrete\",\n",
      "                \"modeling_role\": \"feature\"\n",
      "              },\n",
      "              \"name\": \"Telephone\",\n",
      "              \"nullable\": true,\n",
      "              \"type\": \"string\"\n",
      "            },\n",
      "            {\n",
      "              \"metadata\": {\n",
      "                \"columnInfo\": {\n",
      "                  \"columnLength\": 64\n",
      "                },\n",
      "                \"measure\": \"discrete\",\n",
      "                \"modeling_role\": \"feature\"\n",
      "              },\n",
      "              \"name\": \"ForeignWorker\",\n",
      "              \"nullable\": true,\n",
      "              \"type\": \"string\"\n",
      "            },\n",
      "            {\n",
      "              \"metadata\": {\n",
      "                \"columnInfo\": {\n",
      "                  \"columnLength\": 64\n",
      "                },\n",
      "                \"modeling_role\": \"target\"\n",
      "              },\n",
      "              \"name\": \"Risk\",\n",
      "              \"nullable\": true,\n",
      "              \"type\": \"string\"\n",
      "            },\n",
      "            {\n",
      "              \"metadata\": {\n",
      "                \"modeling_role\": \"record-id\",\n",
      "                \"primary_key\": true\n",
      "              },\n",
      "              \"name\": \"record_id\",\n",
      "              \"nullable\": false,\n",
      "              \"type\": \"string\"\n",
      "            },\n",
      "            {\n",
      "              \"metadata\": {\n",
      "                \"modeling_role\": \"record-timestamp\"\n",
      "              },\n",
      "              \"name\": \"record_timestamp\",\n",
      "              \"nullable\": false,\n",
      "              \"type\": \"timestamp\"\n",
      "            },\n",
      "            {\n",
      "              \"metadata\": {\n",
      "                \"transaction_id_key\": true\n",
      "              },\n",
      "              \"name\": \"transaction_id\",\n",
      "              \"nullable\": true,\n",
      "              \"type\": \"string\"\n",
      "            },\n",
      "            {\n",
      "              \"metadata\": {},\n",
      "              \"name\": \"_original_prediction\",\n",
      "              \"nullable\": true,\n",
      "              \"type\": \"string\"\n",
      "            },\n",
      "            {\n",
      "              \"metadata\": {},\n",
      "              \"name\": \"_original_probability\",\n",
      "              \"nullable\": true,\n",
      "              \"type\": {\n",
      "                \"containsNull\": true,\n",
      "                \"elementType\": \"double\",\n",
      "                \"type\": \"array\"\n",
      "              }\n",
      "            },\n",
      "            {\n",
      "              \"metadata\": {},\n",
      "              \"name\": \"_debiased_prediction\",\n",
      "              \"nullable\": true,\n",
      "              \"type\": \"string\"\n",
      "            },\n",
      "            {\n",
      "              \"metadata\": {},\n",
      "              \"name\": \"_debiased_probability\",\n",
      "              \"nullable\": true,\n",
      "              \"type\": {\n",
      "                \"containsNull\": true,\n",
      "                \"elementType\": \"double\",\n",
      "                \"type\": \"array\"\n",
      "              }\n",
      "            }\n",
      "          ]\n",
      "        },\n",
      "        \"location\": {\n",
      "          \"table_name\": \"936547e2-5ada-4f38-a9dd-0258b445fd3e.Feedback_112ef77a-677d-4774-a434-822882fd28a4\"\n",
      "        },\n",
      "        \"status\": {\n",
      "          \"state\": \"active\"\n",
      "        }\n",
      "      }\n",
      "    }\n",
      "  ]\n",
      "}\n"
     ]
    }
   ],
   "source": [
    "feedback_dataset_id = None\n",
    "feedback_dataset = wos_client.data_sets.list(type=DataSetTypes.FEEDBACK, \n",
    "                                                target_target_id=subscription_id, \n",
    "                                                target_target_type=TargetTypes.SUBSCRIPTION).result\n",
    "print(feedback_dataset)\n",
    "feedback_dataset_id = feedback_dataset.data_sets[0].metadata.id\n",
    "if feedback_dataset_id is None:\n",
    "    print(\"Feedback data set not found. Please check quality monitor status.\")"
   ]
  },
  {
   "cell_type": "code",
   "execution_count": 61,
   "metadata": {},
   "outputs": [],
   "source": [
    "with open('additional_feedback_data_v2.json') as feedback_file:\n",
    "    additional_feedback_data = json.load(feedback_file)"
   ]
  },
  {
   "cell_type": "code",
   "execution_count": 62,
   "metadata": {
    "tags": []
   },
   "outputs": [
    {
     "name": "stdout",
     "output_type": "stream",
     "text": [
      "\n",
      "\n",
      "==========================================================================================\n",
      "\n",
      " Waiting for end of storing records with request id: 9fc1c5ca-1692-4c5a-a50b-7746f44a5d1c \n",
      "\n",
      "==========================================================================================\n",
      "\n",
      "\n",
      "\n",
      "active\n",
      "\n",
      "---------------------------------------\n",
      " Successfully finished storing records \n",
      "---------------------------------------\n",
      "\n",
      "\n"
     ]
    },
    {
     "data": {
      "text/plain": [
       "<ibm_cloud_sdk_core.detailed_response.DetailedResponse at 0x30c0998d0>"
      ]
     },
     "execution_count": 62,
     "metadata": {},
     "output_type": "execute_result"
    }
   ],
   "source": [
    "wos_client.data_sets.store_records(feedback_dataset_id, request_body=additional_feedback_data, background_mode=False)"
   ]
  },
  {
   "cell_type": "code",
   "execution_count": 63,
   "metadata": {},
   "outputs": [
    {
     "data": {
      "text/plain": [
       "98"
      ]
     },
     "execution_count": 63,
     "metadata": {},
     "output_type": "execute_result"
    }
   ],
   "source": [
    "wos_client.data_sets.get_records_count(data_set_id=feedback_dataset_id)"
   ]
  },
  {
   "cell_type": "code",
   "execution_count": 64,
   "metadata": {
    "scrolled": true,
    "tags": []
   },
   "outputs": [
    {
     "name": "stdout",
     "output_type": "stream",
     "text": [
      "\n",
      "\n",
      "========================================================================\n",
      "\n",
      " Waiting for end of monitoring run 5f916d5e-a7b0-4c1e-ad81-027273415331 \n",
      "\n",
      "========================================================================\n",
      "\n",
      "\n",
      "\n",
      "running.....\n",
      "finished\n",
      "\n",
      "---------------------------\n",
      " Successfully finished run \n",
      "---------------------------\n",
      "\n",
      "\n"
     ]
    }
   ],
   "source": [
    "run_details = wos_client.monitor_instances.run(monitor_instance_id=quality_monitor_instance_id, background_mode=False).result"
   ]
  },
  {
   "cell_type": "code",
   "execution_count": 65,
   "metadata": {},
   "outputs": [
    {
     "data": {
      "text/html": [
       "<HTML>\n",
       "        <body>\n",
       "            <h3>30f90ac0-61ee-4866-80f9-8b1899e59803 Monitor Runs Metrics from: 2024-07-05 14:58:01.893009  till: 2024-07-12 14:58:01.893039</h3>\n",
       "            <table style='border: 1px solid #dddddd; font-family: Courier'>\n",
       "                <th style='border: 1px solid #dddddd'>ts</th><th style='border: 1px solid #dddddd'>id</th><th style='border: 1px solid #dddddd'>measurement_id</th><th style='border: 1px solid #dddddd'>value</th><th style='border: 1px solid #dddddd'>lower_limit</th><th style='border: 1px solid #dddddd'>upper_limit</th><th style='border: 1px solid #dddddd'>tags</th><th style='border: 1px solid #dddddd'>monitor_definition_id</th><th style='border: 1px solid #dddddd'>monitor_instance_id</th><th style='border: 1px solid #dddddd'>run_id</th><th style='border: 1px solid #dddddd'>target_type</th><th style='border: 1px solid #dddddd'>target_id</th>\n",
       "                <tr><td style='border: 1px solid #dddddd'>2024-07-12 06:57:10.237000+00:00</td><td style='border: 1px solid #dddddd'>true_positive_rate</td><td style='border: 1px solid #dddddd'>03263b92-98b3-4449-a17f-596a5626935a</td><td style='border: 1px solid #dddddd'>0.3939393939393939</td><td style='border: 1px solid #dddddd'>None</td><td style='border: 1px solid #dddddd'>None</td><td style='border: 1px solid #dddddd'>['model_type:original']</td><td style='border: 1px solid #dddddd'>quality</td><td style='border: 1px solid #dddddd'>30f90ac0-61ee-4866-80f9-8b1899e59803</td><td style='border: 1px solid #dddddd'>5f916d5e-a7b0-4c1e-ad81-027273415331</td><td style='border: 1px solid #dddddd'>subscription</td><td style='border: 1px solid #dddddd'>112ef77a-677d-4774-a434-822882fd28a4</td></tr><tr><td style='border: 1px solid #dddddd'>2024-07-12 06:57:10.237000+00:00</td><td style='border: 1px solid #dddddd'>area_under_roc</td><td style='border: 1px solid #dddddd'>03263b92-98b3-4449-a17f-596a5626935a</td><td style='border: 1px solid #dddddd'>0.6738927738927738</td><td style='border: 1px solid #dddddd'>0.8</td><td style='border: 1px solid #dddddd'>None</td><td style='border: 1px solid #dddddd'>['model_type:original']</td><td style='border: 1px solid #dddddd'>quality</td><td style='border: 1px solid #dddddd'>30f90ac0-61ee-4866-80f9-8b1899e59803</td><td style='border: 1px solid #dddddd'>5f916d5e-a7b0-4c1e-ad81-027273415331</td><td style='border: 1px solid #dddddd'>subscription</td><td style='border: 1px solid #dddddd'>112ef77a-677d-4774-a434-822882fd28a4</td></tr><tr><td style='border: 1px solid #dddddd'>2024-07-12 06:57:10.237000+00:00</td><td style='border: 1px solid #dddddd'>precision</td><td style='border: 1px solid #dddddd'>03263b92-98b3-4449-a17f-596a5626935a</td><td style='border: 1px solid #dddddd'>0.8125</td><td style='border: 1px solid #dddddd'>None</td><td style='border: 1px solid #dddddd'>None</td><td style='border: 1px solid #dddddd'>['model_type:original']</td><td style='border: 1px solid #dddddd'>quality</td><td style='border: 1px solid #dddddd'>30f90ac0-61ee-4866-80f9-8b1899e59803</td><td style='border: 1px solid #dddddd'>5f916d5e-a7b0-4c1e-ad81-027273415331</td><td style='border: 1px solid #dddddd'>subscription</td><td style='border: 1px solid #dddddd'>112ef77a-677d-4774-a434-822882fd28a4</td></tr><tr><td style='border: 1px solid #dddddd'>2024-07-12 06:57:10.237000+00:00</td><td style='border: 1px solid #dddddd'>matthews_correlation_coefficient</td><td style='border: 1px solid #dddddd'>03263b92-98b3-4449-a17f-596a5626935a</td><td style='border: 1px solid #dddddd'>0.4446909198684282</td><td style='border: 1px solid #dddddd'>None</td><td style='border: 1px solid #dddddd'>None</td><td style='border: 1px solid #dddddd'>['model_type:original']</td><td style='border: 1px solid #dddddd'>quality</td><td style='border: 1px solid #dddddd'>30f90ac0-61ee-4866-80f9-8b1899e59803</td><td style='border: 1px solid #dddddd'>5f916d5e-a7b0-4c1e-ad81-027273415331</td><td style='border: 1px solid #dddddd'>subscription</td><td style='border: 1px solid #dddddd'>112ef77a-677d-4774-a434-822882fd28a4</td></tr><tr><td style='border: 1px solid #dddddd'>2024-07-12 06:57:10.237000+00:00</td><td style='border: 1px solid #dddddd'>f1_measure</td><td style='border: 1px solid #dddddd'>03263b92-98b3-4449-a17f-596a5626935a</td><td style='border: 1px solid #dddddd'>0.5306122448979591</td><td style='border: 1px solid #dddddd'>None</td><td style='border: 1px solid #dddddd'>None</td><td style='border: 1px solid #dddddd'>['model_type:original']</td><td style='border: 1px solid #dddddd'>quality</td><td style='border: 1px solid #dddddd'>30f90ac0-61ee-4866-80f9-8b1899e59803</td><td style='border: 1px solid #dddddd'>5f916d5e-a7b0-4c1e-ad81-027273415331</td><td style='border: 1px solid #dddddd'>subscription</td><td style='border: 1px solid #dddddd'>112ef77a-677d-4774-a434-822882fd28a4</td></tr><tr><td style='border: 1px solid #dddddd'>2024-07-12 06:57:10.237000+00:00</td><td style='border: 1px solid #dddddd'>accuracy</td><td style='border: 1px solid #dddddd'>03263b92-98b3-4449-a17f-596a5626935a</td><td style='border: 1px solid #dddddd'>0.7653061224489796</td><td style='border: 1px solid #dddddd'>None</td><td style='border: 1px solid #dddddd'>None</td><td style='border: 1px solid #dddddd'>['model_type:original']</td><td style='border: 1px solid #dddddd'>quality</td><td style='border: 1px solid #dddddd'>30f90ac0-61ee-4866-80f9-8b1899e59803</td><td style='border: 1px solid #dddddd'>5f916d5e-a7b0-4c1e-ad81-027273415331</td><td style='border: 1px solid #dddddd'>subscription</td><td style='border: 1px solid #dddddd'>112ef77a-677d-4774-a434-822882fd28a4</td></tr><tr><td style='border: 1px solid #dddddd'>2024-07-12 06:57:10.237000+00:00</td><td style='border: 1px solid #dddddd'>label_skew</td><td style='border: 1px solid #dddddd'>03263b92-98b3-4449-a17f-596a5626935a</td><td style='border: 1px solid #dddddd'>0.690933627340049</td><td style='border: 1px solid #dddddd'>None</td><td style='border: 1px solid #dddddd'>None</td><td style='border: 1px solid #dddddd'>['model_type:original']</td><td style='border: 1px solid #dddddd'>quality</td><td style='border: 1px solid #dddddd'>30f90ac0-61ee-4866-80f9-8b1899e59803</td><td style='border: 1px solid #dddddd'>5f916d5e-a7b0-4c1e-ad81-027273415331</td><td style='border: 1px solid #dddddd'>subscription</td><td style='border: 1px solid #dddddd'>112ef77a-677d-4774-a434-822882fd28a4</td></tr><tr><td style='border: 1px solid #dddddd'>2024-07-12 06:57:10.237000+00:00</td><td style='border: 1px solid #dddddd'>gini_coefficient</td><td style='border: 1px solid #dddddd'>03263b92-98b3-4449-a17f-596a5626935a</td><td style='border: 1px solid #dddddd'>0.3477855477855476</td><td style='border: 1px solid #dddddd'>None</td><td style='border: 1px solid #dddddd'>None</td><td style='border: 1px solid #dddddd'>['model_type:original']</td><td style='border: 1px solid #dddddd'>quality</td><td style='border: 1px solid #dddddd'>30f90ac0-61ee-4866-80f9-8b1899e59803</td><td style='border: 1px solid #dddddd'>5f916d5e-a7b0-4c1e-ad81-027273415331</td><td style='border: 1px solid #dddddd'>subscription</td><td style='border: 1px solid #dddddd'>112ef77a-677d-4774-a434-822882fd28a4</td></tr><tr><td style='border: 1px solid #dddddd'>2024-07-12 06:57:10.237000+00:00</td><td style='border: 1px solid #dddddd'>log_loss</td><td style='border: 1px solid #dddddd'>03263b92-98b3-4449-a17f-596a5626935a</td><td style='border: 1px solid #dddddd'>0.46099294508575134</td><td style='border: 1px solid #dddddd'>None</td><td style='border: 1px solid #dddddd'>None</td><td style='border: 1px solid #dddddd'>['model_type:original']</td><td style='border: 1px solid #dddddd'>quality</td><td style='border: 1px solid #dddddd'>30f90ac0-61ee-4866-80f9-8b1899e59803</td><td style='border: 1px solid #dddddd'>5f916d5e-a7b0-4c1e-ad81-027273415331</td><td style='border: 1px solid #dddddd'>subscription</td><td style='border: 1px solid #dddddd'>112ef77a-677d-4774-a434-822882fd28a4</td></tr><tr><td style='border: 1px solid #dddddd'>2024-07-12 06:57:10.237000+00:00</td><td style='border: 1px solid #dddddd'>false_positive_rate</td><td style='border: 1px solid #dddddd'>03263b92-98b3-4449-a17f-596a5626935a</td><td style='border: 1px solid #dddddd'>0.046153846153846156</td><td style='border: 1px solid #dddddd'>None</td><td style='border: 1px solid #dddddd'>None</td><td style='border: 1px solid #dddddd'>['model_type:original']</td><td style='border: 1px solid #dddddd'>quality</td><td style='border: 1px solid #dddddd'>30f90ac0-61ee-4866-80f9-8b1899e59803</td><td style='border: 1px solid #dddddd'>5f916d5e-a7b0-4c1e-ad81-027273415331</td><td style='border: 1px solid #dddddd'>subscription</td><td style='border: 1px solid #dddddd'>112ef77a-677d-4774-a434-822882fd28a4</td></tr>\n",
       "            </table>\n",
       "        </body>\n",
       "        </HTML>"
      ],
      "text/plain": [
       "<IPython.core.display.HTML object>"
      ]
     },
     "metadata": {},
     "output_type": "display_data"
    },
    {
     "name": "stdout",
     "output_type": "stream",
     "text": [
      "Note: First 10 records were displayed.\n"
     ]
    }
   ],
   "source": [
    "time.sleep(5)\n",
    "wos_client.monitor_instances.show_metrics(monitor_instance_id=quality_monitor_instance_id)"
   ]
  },
  {
   "cell_type": "markdown",
   "metadata": {},
   "source": [
    "# Fairness monitoring and explanations <a name=\"fairness\"></a>"
   ]
  },
  {
   "cell_type": "markdown",
   "metadata": {},
   "source": [
    "### Fairness configuration\n",
    "\n",
    "The code below configures fairness monitoring for our model. It turns on monitoring for two features, Sex and Age. In each case, we must specify:\n",
    "  * Which model feature to monitor\n",
    "  * One or more **majority** groups, which are values of that feature that we expect to receive a higher percentage of favorable outcomes\n",
    "  * One or more **minority** groups, which are values of that feature that we expect to receive a higher percentage of unfavorable outcomes\n",
    "  * The threshold at which we would like OpenScale to display an alert if the fairness measurement falls below (in this case, 95%)\n",
    "\n",
    "Additionally, we must specify which outcomes from the model are favourable outcomes, and which are unfavourable. We must also provide the number of records OpenScale will use to calculate the fairness score. In this case, OpenScale's fairness monitor will run hourly, but will not calculate a new fairness rating until at least 200 records have been added. Finally, to calculate fairness, OpenScale must perform some calculations on the training data, so we provide the dataframe containing the data."
   ]
  },
  {
   "cell_type": "code",
   "execution_count": 69,
   "metadata": {},
   "outputs": [
    {
     "data": {
      "text/html": [
       "<HTML>\n",
       "        <body>\n",
       "            <h3>Monitor instances</h3>\n",
       "            <table style='border: 1px solid #dddddd; font-family: Courier'>\n",
       "                <th style='border: 1px solid #dddddd'>data_mart_id</th><th style='border: 1px solid #dddddd'>status</th><th style='border: 1px solid #dddddd'>target_id</th><th style='border: 1px solid #dddddd'>target_type</th><th style='border: 1px solid #dddddd'>monitor_definition_id</th><th style='border: 1px solid #dddddd'>created_at</th><th style='border: 1px solid #dddddd'>id</th>\n",
       "                <tr><td style='border: 1px solid #dddddd'>936547e2-5ada-4f38-a9dd-0258b445fd3e</td><td style='border: 1px solid #dddddd'>preparing</td><td style='border: 1px solid #dddddd'>078088f3-9913-4e57-a179-27905ef0a900</td><td style='border: 1px solid #dddddd'>subscription</td><td style='border: 1px solid #dddddd'>drift_v2</td><td style='border: 1px solid #dddddd'>2024-07-03 13:54:38.492000+00:00</td><td style='border: 1px solid #dddddd'>f4df61b6-1aa2-41b2-9b70-324de5375d05</td></tr><tr><td style='border: 1px solid #dddddd'>936547e2-5ada-4f38-a9dd-0258b445fd3e</td><td style='border: 1px solid #dddddd'>preparing</td><td style='border: 1px solid #dddddd'>f5dd5614-9af2-4317-b83b-a0ccb14b7a96</td><td style='border: 1px solid #dddddd'>subscription</td><td style='border: 1px solid #dddddd'>drift_v2</td><td style='border: 1px solid #dddddd'>2024-07-10 06:39:24.644000+00:00</td><td style='border: 1px solid #dddddd'>d457b787-2b06-4979-b70d-8a1903c60b7a</td></tr>\n",
       "            </table>\n",
       "        </body>\n",
       "        </HTML>"
      ],
      "text/plain": [
       "<IPython.core.display.HTML object>"
      ]
     },
     "metadata": {},
     "output_type": "display_data"
    },
    {
     "name": "stdout",
     "output_type": "stream",
     "text": [
      "Note: First 2 records were displayed.\n"
     ]
    }
   ],
   "source": [
    "wos_client.monitor_instances.show(2)"
   ]
  },
  {
   "cell_type": "code",
   "execution_count": 70,
   "metadata": {},
   "outputs": [
    {
     "data": {
      "text/plain": [
       "<ibm_cloud_sdk_core.detailed_response.DetailedResponse at 0x109cb2b90>"
      ]
     },
     "execution_count": 70,
     "metadata": {},
     "output_type": "execute_result"
    }
   ],
   "source": [
    "wos_client.monitor_instances.delete(monitor_instance_id=\"678a003f-df55-4c5f-9118-bfcbde0dc160\")"
   ]
  },
  {
   "cell_type": "code",
   "execution_count": 71,
   "metadata": {
    "scrolled": true,
    "tags": []
   },
   "outputs": [
    {
     "name": "stdout",
     "output_type": "stream",
     "text": [
      "\n",
      "\n",
      "===================================================================================\n",
      "\n",
      " Waiting for end of monitor instance creation be8e213e-a80a-4c2a-9d6b-10458c81ff7a \n",
      "\n",
      "===================================================================================\n",
      "\n",
      "\n",
      "\n",
      "active\n",
      "\n",
      "---------------------------------------\n",
      " Monitor instance successfully created \n",
      "---------------------------------------\n",
      "\n",
      "\n"
     ]
    }
   ],
   "source": [
    "target = Target(\n",
    "    target_type=TargetTypes.SUBSCRIPTION,\n",
    "    target_id=subscription_id\n",
    "\n",
    ")\n",
    "parameters = {\n",
    "    \"features\": [\n",
    "        {\"feature\": \"Sex\",\n",
    "         \"majority\": ['male'],\n",
    "         \"minority\": ['female'],\n",
    "         \"threshold\": 0.95\n",
    "         },\n",
    "        {\"feature\": \"Age\",\n",
    "         \"majority\": [[26, 75]],\n",
    "         \"minority\": [[18, 25]],\n",
    "         \"threshold\": 0.95\n",
    "         }\n",
    "    ],\n",
    "    \"favourable_class\": [\"No Risk\"],\n",
    "    \"unfavourable_class\": [\"Risk\"],\n",
    "    \"min_records\": 100\n",
    "}\n",
    "\n",
    "fairness_monitor_details = wos_client.monitor_instances.create(\n",
    "    data_mart_id=data_mart_id,\n",
    "    background_mode=False,\n",
    "    monitor_definition_id=wos_client.monitor_definitions.MONITORS.FAIRNESS.ID,\n",
    "    target=target,\n",
    "    parameters=parameters).result\n",
    "fairness_monitor_instance_id =fairness_monitor_details.metadata.id"
   ]
  },
  {
   "cell_type": "markdown",
   "metadata": {},
   "source": [
    "### Drift configuration"
   ]
  },
  {
   "cell_type": "markdown",
   "metadata": {},
   "source": [
    "####  Note: you can choose to enable/disable (True or False) model or data drift within config"
   ]
  },
  {
   "cell_type": "code",
   "execution_count": null,
   "metadata": {},
   "outputs": [],
   "source": [
    "monitor_instances = wos_client.monitor_instances.list().result.monitor_instances\n",
    "for monitor_instance in monitor_instances:\n",
    "    monitor_def_id=monitor_instance.entity.monitor_definition_id\n",
    "    if monitor_def_id == \"drift\" and monitor_instance.entity.target.target_id == subscription_id:\n",
    "        wos_client.monitor_instances.delete(monitor_instance.metadata.id)\n",
    "        print('Deleted existing drift monitor instance with id: ', monitor_instance.metadata.id)"
   ]
  },
  {
   "cell_type": "code",
   "execution_count": null,
   "metadata": {
    "tags": []
   },
   "outputs": [],
   "source": [
    "target = Target(\n",
    "    target_type=TargetTypes.SUBSCRIPTION,\n",
    "    target_id=subscription_id\n",
    "\n",
    ")\n",
    "\n",
    "parameters = {\n",
    "    \"min_samples\": 100,\n",
    "    \"drift_threshold\": 0.1,\n",
    "    \"train_drift_model\": True,\n",
    "    \"enable_model_drift\": False,\n",
    "    \"enable_data_drift\": True\n",
    "}\n",
    "\n",
    "\n",
    "drift_monitor_details = wos_client.monitor_instances.create(\n",
    "    data_mart_id=data_mart_id,\n",
    "    background_mode=False,\n",
    "    monitor_definition_id=wos_client.monitor_definitions.MONITORS.DRIFT.ID,\n",
    "    target=target,\n",
    "    parameters=parameters\n",
    ").result\n",
    "\n",
    "drift_monitor_instance_id = drift_monitor_details.metadata.id"
   ]
  },
  {
   "cell_type": "markdown",
   "metadata": {},
   "source": [
    "#### Finding feature importances\n",
    "\n",
    "This is done because we will deduce the important and most important features to the model. This will help in narrowing down the analysis of Drift evaluation in the UI"
   ]
  },
  {
   "cell_type": "code",
   "execution_count": null,
   "metadata": {},
   "outputs": [],
   "source": [
    "from sklearn.inspection import permutation_importance\n",
    "\n",
    "result = permutation_importance(risk_model, train_data.drop('Risk', axis=1), train_data.Risk, random_state=0)\n",
    "result = np.mean(np.abs(result.importances), axis=1)\n",
    "fields = [col for col in train_data.columns if col != \"Risk\"]\n",
    "\n",
    "feature_importance = dict(zip(fields, result))\n"
   ]
  },
  {
   "cell_type": "markdown",
   "metadata": {},
   "source": [
    "### Drift V2 Configuration"
   ]
  },
  {
   "cell_type": "code",
   "execution_count": null,
   "metadata": {},
   "outputs": [],
   "source": [
    "monitor_instances = wos_client.monitor_instances.list().result.monitor_instances\n",
    "for monitor_instance in monitor_instances:\n",
    "    monitor_def_id=monitor_instance.entity.monitor_definition_id\n",
    "    if monitor_def_id == \"drift_v2\" and monitor_instance.entity.target.target_id == subscription_id:\n",
    "        wos_client.monitor_instances.delete(monitor_instance.metadata.id)\n",
    "        print('Deleted existing drift v2 monitor instance with id: ', monitor_instance.metadata.id)"
   ]
  },
  {
   "cell_type": "code",
   "execution_count": null,
   "metadata": {},
   "outputs": [],
   "source": [
    "target = Target(\n",
    "    target_type=TargetTypes.SUBSCRIPTION,\n",
    "    target_id=subscription_id\n",
    ")\n",
    "\n",
    "parameters = {\n",
    "        \"min_samples\": 10,\n",
    "        \"max_samples\": 1000,\n",
    "        \"train_archive\": True,\n",
    "        \"features\": {\n",
    "            \"fields\": fields,\n",
    "            \"importances\": feature_importance\n",
    "        }\n",
    "    }\n",
    "drift_v2_monitor_details = wos_client.monitor_instances.create(\n",
    "    data_mart_id=data_mart_id,\n",
    "    monitor_definition_id=wos_client.monitor_definitions.MONITORS.DRIFT_V2.ID,\n",
    "    target=target,\n",
    "    parameters=parameters\n",
    ").result\n",
    "\n",
    "drift_v2_monitor_instance_id = drift_v2_monitor_details.metadata.id\n",
    "drift_v2_monitor_instance_id"
   ]
  },
  {
   "cell_type": "markdown",
   "metadata": {},
   "source": [
    "## Score the model again now that monitoring is configured"
   ]
  },
  {
   "cell_type": "markdown",
   "metadata": {},
   "source": [
    "This next section randomly selects 200 records from the data feed and sends those records to the model for predictions. This is enough to exceed the minimum threshold for records set in the previous section, which allows OpenScale to begin calculating fairness."
   ]
  },
  {
   "cell_type": "code",
   "execution_count": 72,
   "metadata": {
    "tags": []
   },
   "outputs": [
    {
     "name": "stdout",
     "output_type": "stream",
     "text": [
      "rm: german_credit_feed.json: No such file or directory\n",
      "-rw-r--r--  1 sidharthmittal  staff   2.9M Jul 12 15:22 german_credit_feed.json\n"
     ]
    }
   ],
   "source": [
    "from IPython.utils import io\n",
    "!rm german_credit_feed.json\n",
    "with io.capture_output() as captured:\n",
    "    !wget https://raw.githubusercontent.com/IBM/watson-openscale-samples/main/IBM%20Cloud/WML/assets/data/credit_risk/german_credit_feed.json\n",
    "!ls -lh german_credit_feed.json"
   ]
  },
  {
   "cell_type": "markdown",
   "metadata": {},
   "source": [
    "Score 200 randomly chosen records"
   ]
  },
  {
   "cell_type": "code",
   "execution_count": 73,
   "metadata": {
    "tags": []
   },
   "outputs": [],
   "source": [
    "import random\n",
    "\n",
    "with open('german_credit_feed.json', 'r') as scoring_file:\n",
    "    scoring_data = json.load(scoring_file)\n",
    "\n",
    "fields = scoring_data['fields']\n",
    "values = []\n",
    "for _ in range(200):\n",
    "    values.append(random.choice(scoring_data['values']))\n",
    "payload_scoring = {\"input_data\": [{\"fields\": fields, \"values\": values}]}\n",
    "\n",
    "scoring_response = wml_client.deployments.score(deployment_uid, payload_scoring)\n",
    "\n",
    "time.sleep(5)\n",
    "pl_records_count = wos_client.data_sets.get_records_count(payload_data_set_id)\n",
    "\n",
    "if pl_records_count == 8:\n",
    "    print(\"Payload logging did not happen, performing explicit payload logging.\")\n",
    "    wos_client.data_sets.store_records(data_set_id=payload_data_set_id, request_body=[PayloadRecord(\n",
    "                   scoring_id=str(uuid.uuid4()),\n",
    "                   request=payload_scoring,\n",
    "                   response={\"fields\": scoring_response['predictions'][0]['fields'], \"values\":scoring_response['predictions'][0]['values']},\n",
    "                   response_time=460\n",
    "               )])\n",
    "    time.sleep(5)\n",
    "    pl_records_count = wos_client.data_sets.get_records_count(payload_data_set_id)\n",
    "    print(\"Number of records in the payload logging table: {}\".format(pl_records_count))"
   ]
  },
  {
   "cell_type": "markdown",
   "metadata": {},
   "source": [
    "**Note:** Now in payload table should be total 208 records."
   ]
  },
  {
   "cell_type": "code",
   "execution_count": 74,
   "metadata": {
    "tags": []
   },
   "outputs": [
    {
     "name": "stdout",
     "output_type": "stream",
     "text": [
      "Number of records in payload table: 208\n"
     ]
    }
   ],
   "source": [
    "print(\"Number of records in payload table:\", wos_client.data_sets.get_records_count(data_set_id=payload_data_set_id))"
   ]
  },
  {
   "cell_type": "markdown",
   "metadata": {},
   "source": [
    "## Run fairness monitor"
   ]
  },
  {
   "cell_type": "markdown",
   "metadata": {},
   "source": [
    "Kick off a fairness monitor run on current data. The monitor runs hourly, but can be manually initiated using the Python client, the REST API, or the graphical user interface."
   ]
  },
  {
   "cell_type": "code",
   "execution_count": 77,
   "metadata": {
    "scrolled": true,
    "tags": []
   },
   "outputs": [
    {
     "name": "stdout",
     "output_type": "stream",
     "text": [
      "\n",
      "\n",
      "========================================================================\n",
      "\n",
      " Waiting for end of monitoring run 82d24dea-b2d1-4a19-9083-ac715251bff0 \n",
      "\n",
      "========================================================================\n",
      "\n",
      "\n",
      "\n",
      "error\n",
      "\n",
      "-------------------------------\n",
      " Run failed with status: error \n",
      "-------------------------------\n",
      "\n",
      "\n",
      "Reason: ['code: AIQMM0002E, message: Action `Trigger Monitor Run` has failed with status code 500', 'code: AIQFM5012, message: Internal error occurred during fairness computation for subscription: 112ef77a-677d-4774-a434-822882fd28a4. Please contact support']\n"
     ]
    }
   ],
   "source": [
    "run_details = wos_client.monitor_instances.run(monitor_instance_id=fairness_monitor_instance_id, background_mode=False)"
   ]
  },
  {
   "cell_type": "code",
   "execution_count": 78,
   "metadata": {},
   "outputs": [
    {
     "data": {
      "text/html": [
       "<HTML>\n",
       "        <body>\n",
       "            <h3>be8e213e-a80a-4c2a-9d6b-10458c81ff7a Monitor Runs Metrics from: 2024-07-05 15:26:58.669022  till: 2024-07-12 15:26:58.669056</h3>\n",
       "            <table style='border: 1px solid #dddddd; font-family: Courier'>\n",
       "                <th style='border: 1px solid #dddddd'>ts</th><th style='border: 1px solid #dddddd'>id</th><th style='border: 1px solid #dddddd'>measurement_id</th><th style='border: 1px solid #dddddd'>value</th><th style='border: 1px solid #dddddd'>lower_limit</th><th style='border: 1px solid #dddddd'>upper_limit</th><th style='border: 1px solid #dddddd'>tags</th><th style='border: 1px solid #dddddd'>monitor_definition_id</th><th style='border: 1px solid #dddddd'>monitor_instance_id</th><th style='border: 1px solid #dddddd'>run_id</th><th style='border: 1px solid #dddddd'>target_type</th><th style='border: 1px solid #dddddd'>target_id</th>\n",
       "                \n",
       "            </table>\n",
       "        </body>\n",
       "        </HTML>"
      ],
      "text/plain": [
       "<IPython.core.display.HTML object>"
      ]
     },
     "metadata": {},
     "output_type": "display_data"
    }
   ],
   "source": [
    "time.sleep(10)\n",
    "\n",
    "wos_client.monitor_instances.show_metrics(monitor_instance_id=fairness_monitor_instance_id)"
   ]
  },
  {
   "cell_type": "markdown",
   "metadata": {},
   "source": [
    "## Run drift monitor\n",
    "\n",
    "\n",
    "Kick off a drift monitor run on current data. The monitor runs three hours, but can be manually initiated using the Python client, the REST API."
   ]
  },
  {
   "cell_type": "code",
   "execution_count": null,
   "metadata": {
    "tags": []
   },
   "outputs": [],
   "source": [
    "drift_run_details = wos_client.monitor_instances.run(monitor_instance_id=drift_monitor_instance_id, background_mode=False)"
   ]
  },
  {
   "cell_type": "code",
   "execution_count": null,
   "metadata": {},
   "outputs": [],
   "source": [
    "time.sleep(5)\n",
    "\n",
    "wos_client.monitor_instances.show_metrics(monitor_instance_id=drift_monitor_instance_id)"
   ]
  },
  {
   "cell_type": "markdown",
   "metadata": {},
   "source": [
    "## Run drift v2 monitor\n",
    "\n",
    "\n",
    "Kick off a drift v2 monitor run on current data. The monitor runs every day, but can be manually initiated using the Python client, the REST API."
   ]
  },
  {
   "cell_type": "code",
   "execution_count": null,
   "metadata": {},
   "outputs": [],
   "source": [
    "drift_v2_run_details = wos_client.monitor_instances.run(monitor_instance_id=drift_v2_monitor_instance_id, background_mode=False)"
   ]
  },
  {
   "cell_type": "code",
   "execution_count": null,
   "metadata": {},
   "outputs": [],
   "source": [
    "time.sleep(15)\n",
    "\n",
    "wos_client.monitor_instances.show_metrics(monitor_instance_id=drift_v2_monitor_instance_id)"
   ]
  },
  {
   "cell_type": "markdown",
   "metadata": {},
   "source": [
    "## Configure Explainability"
   ]
  },
  {
   "cell_type": "markdown",
   "metadata": {},
   "source": [
    "Finally, we provide OpenScale with the training data to enable and configure the explainability features."
   ]
  },
  {
   "cell_type": "code",
   "execution_count": null,
   "metadata": {
    "tags": []
   },
   "outputs": [],
   "source": [
    "target = Target(\n",
    "    target_type=TargetTypes.SUBSCRIPTION,\n",
    "    target_id=subscription_id\n",
    ")\n",
    "parameters = {\n",
    "    \"enabled\": True\n",
    "}\n",
    "explainability_details = wos_client.monitor_instances.create(\n",
    "    data_mart_id=data_mart_id,\n",
    "    background_mode=False,\n",
    "    monitor_definition_id=wos_client.monitor_definitions.MONITORS.EXPLAINABILITY.ID,\n",
    "    target=target,\n",
    "    parameters=parameters\n",
    ").result\n",
    "\n",
    "explainability_monitor_id = explainability_details.metadata.id"
   ]
  },
  {
   "cell_type": "markdown",
   "metadata": {},
   "source": [
    "## Run explanation for sample record"
   ]
  },
  {
   "cell_type": "code",
   "execution_count": null,
   "metadata": {
    "tags": []
   },
   "outputs": [],
   "source": [
    "pl_records_resp = wos_client.data_sets.get_list_of_records(data_set_id=payload_data_set_id, limit=1, offset=0).result\n",
    "scoring_ids = [pl_records_resp[\"records\"][0][\"entity\"][\"values\"][\"scoring_id\"]]\n",
    "print(\"Running explanations on scoring IDs: {}\".format(scoring_ids))\n",
    "explanation_types = [\"lime\", \"contrastive\"]\n",
    "result = wos_client.monitor_instances.explanation_tasks(scoring_ids=scoring_ids, explanation_types=explanation_types, subscription_id=subscription_id).result\n",
    "print(result)\n"
   ]
  },
  {
   "cell_type": "markdown",
   "metadata": {},
   "source": [
    "# Custom monitors and metrics <a name=\"custom\"></a>"
   ]
  },
  {
   "cell_type": "markdown",
   "metadata": {},
   "source": [
    "## Register custom monitor"
   ]
  },
  {
   "cell_type": "code",
   "execution_count": null,
   "metadata": {},
   "outputs": [],
   "source": [
    "def get_definition(monitor_name):\n",
    "    monitor_definitions = wos_client.monitor_definitions.list().result.monitor_definitions\n",
    "    \n",
    "    for definition in monitor_definitions:\n",
    "        if monitor_name == definition.entity.name:\n",
    "            return definition\n",
    "    \n",
    "    return None"
   ]
  },
  {
   "cell_type": "code",
   "execution_count": null,
   "metadata": {},
   "outputs": [],
   "source": [
    "monitor_name = 'my model performance'\n",
    "metrics = [MonitorMetricRequest(name='sensitivity',\n",
    "                                thresholds=[MetricThreshold(type=MetricThresholdTypes.LOWER_LIMIT, default=0.8)]),\n",
    "          MonitorMetricRequest(name='specificity',\n",
    "                                thresholds=[MetricThreshold(type=MetricThresholdTypes.LOWER_LIMIT, default=0.75)])]\n",
    "tags = [MonitorTagRequest(name='region', description='customer geographical region')]\n",
    "\n",
    "existing_definition = get_definition(monitor_name)\n",
    "\n",
    "if existing_definition is None:\n",
    "    custom_monitor_details = wos_client.monitor_definitions.add(name=monitor_name, metrics=metrics, tags=tags, background_mode=False).result\n",
    "else:\n",
    "    custom_monitor_details = existing_definition"
   ]
  },
  {
   "cell_type": "markdown",
   "metadata": {},
   "source": [
    "### Show available monitors types"
   ]
  },
  {
   "cell_type": "code",
   "execution_count": null,
   "metadata": {},
   "outputs": [],
   "source": [
    "wos_client.monitor_definitions.show()"
   ]
  },
  {
   "cell_type": "markdown",
   "metadata": {},
   "source": [
    "### Get monitors uids and details"
   ]
  },
  {
   "cell_type": "code",
   "execution_count": null,
   "metadata": {
    "tags": []
   },
   "outputs": [],
   "source": [
    "custom_monitor_id = custom_monitor_details.metadata.id\n",
    "\n",
    "print(custom_monitor_id)"
   ]
  },
  {
   "cell_type": "code",
   "execution_count": null,
   "metadata": {
    "scrolled": true,
    "tags": []
   },
   "outputs": [],
   "source": [
    "custom_monitor_details = wos_client.monitor_definitions.get(monitor_definition_id=custom_monitor_id).result\n",
    "print('Monitor definition details:', custom_monitor_details)"
   ]
  },
  {
   "cell_type": "markdown",
   "metadata": {},
   "source": [
    "## Enable custom monitor for subscription"
   ]
  },
  {
   "cell_type": "code",
   "execution_count": null,
   "metadata": {
    "tags": []
   },
   "outputs": [],
   "source": [
    "target = Target(\n",
    "        target_type=TargetTypes.SUBSCRIPTION,\n",
    "        target_id=subscription_id\n",
    "    )\n",
    "\n",
    "thresholds = [MetricThresholdOverride(metric_id='sensitivity', type = MetricThresholdTypes.LOWER_LIMIT, value=0.9)]\n",
    "\n",
    "custom_monitor_instance_details = wos_client.monitor_instances.create(\n",
    "            data_mart_id=data_mart_id,\n",
    "            background_mode=False,\n",
    "            monitor_definition_id=custom_monitor_id,\n",
    "            parameters = {},\n",
    "            target=target\n",
    ").result"
   ]
  },
  {
   "cell_type": "markdown",
   "metadata": {},
   "source": [
    "### Get monitor instance id and configuration details"
   ]
  },
  {
   "cell_type": "code",
   "execution_count": null,
   "metadata": {},
   "outputs": [],
   "source": [
    "custom_monitor_instance_id = custom_monitor_instance_details.metadata.id"
   ]
  },
  {
   "cell_type": "code",
   "execution_count": null,
   "metadata": {
    "tags": []
   },
   "outputs": [],
   "source": [
    "custom_monitor_instance_details = wos_client.monitor_instances.get(custom_monitor_instance_id).result\n",
    "print(custom_monitor_instance_details)"
   ]
  },
  {
   "cell_type": "markdown",
   "metadata": {},
   "source": [
    "## Storing custom metrics"
   ]
  },
  {
   "cell_type": "code",
   "execution_count": null,
   "metadata": {
    "tags": []
   },
   "outputs": [],
   "source": [
    "from datetime import datetime, timezone, timedelta\n",
    "import uuid\n",
    "from ibm_watson_openscale.base_classes.watson_open_scale_v2 import MonitorMeasurementRequest\n",
    "custom_monitoring_run_id = str(uuid.uuid4())\n",
    "measurement_request = [MonitorMeasurementRequest(timestamp=datetime.now(timezone.utc), \n",
    "                                                 metrics=[{\"specificity\": 0.78, \"sensitivity\": 0.67, \"region\": \"us-south\"}], run_id=custom_monitoring_run_id)]\n",
    "print(measurement_request[0])"
   ]
  },
  {
   "cell_type": "code",
   "execution_count": null,
   "metadata": {
    "tags": []
   },
   "outputs": [],
   "source": [
    "published_measurement_response = wos_client.monitor_instances.measurements.add(\n",
    "    monitor_instance_id=custom_monitor_instance_id,\n",
    "    monitor_measurement_request=measurement_request).result\n",
    "published_measurement_id = published_measurement_response[0][\"measurement_id\"]\n",
    "print(published_measurement_response)"
   ]
  },
  {
   "cell_type": "markdown",
   "metadata": {},
   "source": [
    "### List and get custom metrics"
   ]
  },
  {
   "cell_type": "code",
   "execution_count": null,
   "metadata": {
    "scrolled": true,
    "tags": []
   },
   "outputs": [],
   "source": [
    "time.sleep(5)\n",
    "published_measurement = wos_client.monitor_instances.measurements.get(monitor_instance_id=custom_monitor_instance_id, measurement_id=published_measurement_id).result\n",
    "print(published_measurement)"
   ]
  },
  {
   "cell_type": "markdown",
   "metadata": {},
   "source": [
    "## Identify transactions for Explainability"
   ]
  },
  {
   "cell_type": "markdown",
   "metadata": {},
   "source": [
    "Transaction IDs identified by the cells below can be copied and pasted into the Explainability tab of the OpenScale dashboard."
   ]
  },
  {
   "cell_type": "code",
   "execution_count": null,
   "metadata": {},
   "outputs": [],
   "source": [
    "wos_client.data_sets.show_records(payload_data_set_id, limit=5)"
   ]
  },
  {
   "cell_type": "markdown",
   "metadata": {},
   "source": [
    "## Insert historical fairness metrics"
   ]
  },
  {
   "cell_type": "code",
   "execution_count": null,
   "metadata": {},
   "outputs": [],
   "source": [
    "historyDays = 7"
   ]
  },
  {
   "cell_type": "code",
   "execution_count": null,
   "metadata": {},
   "outputs": [],
   "source": [
    "!rm history_fairness_v2.json\n",
    "with io.capture_output() as captured:\n",
    "    !wget https://raw.githubusercontent.com/IBM/watson-openscale-samples/main/IBM%20Cloud/WML/assets/data/historical_data/credit_risk/history_fairness_v2.json\n",
    "!ls -lh history_fairness_v2.json"
   ]
  },
  {
   "cell_type": "code",
   "execution_count": null,
   "metadata": {},
   "outputs": [],
   "source": [
    "from datetime import datetime, timedelta, timezone\n",
    "\n",
    "from ibm_watson_openscale.base_classes.watson_open_scale_v2 import Source\n",
    "from ibm_watson_openscale.base_classes.watson_open_scale_v2 import Measurements\n",
    "with open(\"history_fairness_v2.json\") as f:\n",
    "    fairness_values = json.load(f)\n",
    "    for day in range(historyDays):\n",
    "        print('Loading day', day + 1)\n",
    "        daily_measurement_requests = []\n",
    "        sources_list = []\n",
    "        for hour in range(24):\n",
    "            score_time = (datetime.now(timezone.utc) + timedelta(hours=(-(24*day + hour + 1)))).strftime('%Y-%m-%dT%H:%M:%SZ')\n",
    "            index = (day * 24 + hour) % len(fairness_values) # wrap around and reuse values if needed\n",
    "            fairness_values[index][\"timestamp\"] = score_time\n",
    "            #print(score_time) \n",
    "            fairness_value = fairness_values[index]\n",
    "            metrics_list = fairness_value[\"metrics\"]\n",
    "            sources = fairness_value[\"sources\"]\n",
    "            sources_list = []\n",
    "            for source in sources:\n",
    "                source_id = source[\"id\"]\n",
    "                source_type = source[\"type\"]\n",
    "                source_data = source[\"data\"]\n",
    "                if source_id == \"bias_detection_summary\":\n",
    "                    source_data[\"evaluated_at\"] = score_time\n",
    "                    source_data[\"favourable_class\"] = [\"No Risk\"]\n",
    "                    source_data[\"unfavourable_class\"] = [\"Risk\"]\n",
    "                    source_data[\"score_type\"] = \"disparate impact\"\n",
    "                sources_list.append(\n",
    "                    Source(\n",
    "                        id=source_id,\n",
    "                        type=source_type,\n",
    "                        data=source_data\n",
    "                    )\n",
    "                )  \n",
    "            measurement_request = MonitorMeasurementRequest(metrics=metrics_list, sources=sources_list, timestamp=score_time)\n",
    "            daily_measurement_requests.append(measurement_request)\n",
    "        measurements_client = Measurements(wos_client)\n",
    "        measurements_client.add(monitor_instance_id=fairness_monitor_instance_id, monitor_measurement_request=daily_measurement_requests)     \n",
    "print('Finished')"
   ]
  },
  {
   "cell_type": "markdown",
   "metadata": {},
   "source": [
    "## Insert historical debias metrics"
   ]
  },
  {
   "cell_type": "code",
   "execution_count": null,
   "metadata": {},
   "outputs": [],
   "source": [
    "!rm history_debias_v2.json\n",
    "with io.capture_output() as captured:\n",
    "    !wget https://raw.githubusercontent.com/IBM/watson-openscale-samples/main/IBM%20Cloud/WML/assets/data/historical_data/credit_risk/history_debias_v2.json\n",
    "!ls -lh history_debias_v2.json"
   ]
  },
  {
   "cell_type": "code",
   "execution_count": null,
   "metadata": {},
   "outputs": [],
   "source": [
    "with open(\"history_debias_v2.json\") as f:\n",
    "    debias_values = json.load(f)\n",
    "    for day in range(historyDays):\n",
    "        print('Loading day', day + 1)\n",
    "        daily_measurement_requests = []\n",
    "        sources_list = []\n",
    "        for hour in range(24):\n",
    "            score_time = (datetime.now(timezone.utc) + timedelta(hours=(-(24*day + hour + 1)))).strftime('%Y-%m-%dT%H:%M:%SZ')\n",
    "            index = (day * 24 + hour) % len(debias_values) # wrap around and reuse values if needed\n",
    "            debias_values[index][\"timestamp\"] = score_time\n",
    "            debias_value = debias_values[index]\n",
    "            metrics_list = debias_value[\"metrics\"]\n",
    "            sources = debias_value[\"sources\"]\n",
    "            sources_list = []\n",
    "            for source in sources:\n",
    "                sources_list.append(\n",
    "                    Source(\n",
    "                        id=source[\"id\"],\n",
    "                        type=source[\"type\"],\n",
    "                        data=source[\"data\"]\n",
    "                    )\n",
    "                )  \n",
    "            measurement_request = MonitorMeasurementRequest(metrics=metrics_list, sources=sources_list, timestamp=score_time)\n",
    "            daily_measurement_requests.append(measurement_request)\n",
    "        measurements_client = Measurements(wos_client)\n",
    "        measurements_client.add(monitor_instance_id=fairness_monitor_instance_id, monitor_measurement_request=daily_measurement_requests)         \n",
    "\n",
    "print('Finished')"
   ]
  },
  {
   "cell_type": "markdown",
   "metadata": {},
   "source": [
    "## Insert historical quality metrics"
   ]
  },
  {
   "cell_type": "code",
   "execution_count": null,
   "metadata": {},
   "outputs": [],
   "source": [
    "measurements = [0.76, 0.78, 0.68, 0.72, 0.73, 0.77, 0.80]\n",
    "for day in range(historyDays):\n",
    "    quality_measurement_requests = []\n",
    "    print('Loading day', day + 1)\n",
    "    for hour in range(24):\n",
    "        score_time = datetime.utcnow() + timedelta(hours=(-(24*day + hour + 1)))\n",
    "        score_time = score_time.isoformat() + \"Z\"\n",
    "        \n",
    "        metric = {\"area_under_roc\": measurements[day]}\n",
    "                \n",
    "        measurement_request = MonitorMeasurementRequest(timestamp=score_time,metrics = [metric])\n",
    "        quality_measurement_requests.append(measurement_request)\n",
    "        \n",
    "        \n",
    "    response = wos_client.monitor_instances.measurements.add(\n",
    "                                            monitor_instance_id=quality_monitor_instance_id,\n",
    "                                            monitor_measurement_request=quality_measurement_requests).result    \n",
    "    \n",
    "print('Finished')"
   ]
  },
  {
   "cell_type": "markdown",
   "metadata": {},
   "source": [
    "## Insert historical confusion matrixes"
   ]
  },
  {
   "cell_type": "code",
   "execution_count": null,
   "metadata": {},
   "outputs": [],
   "source": [
    "!rm history_quality_metrics.json\n",
    "with io.capture_output() as captured:\n",
    "    !wget https://raw.githubusercontent.com/IBM/watson-openscale-samples/main/IBM%20Cloud/WML/assets/data/historical_data/credit_risk/history_quality_metrics.json\n",
    "!ls -lh history_quality_metrics.json"
   ]
  },
  {
   "cell_type": "code",
   "execution_count": null,
   "metadata": {},
   "outputs": [],
   "source": [
    "from ibm_watson_openscale.base_classes.watson_open_scale_v2 import Source\n",
    "\n",
    "with open('history_quality_metrics.json') as json_file:\n",
    "    records = json.load(json_file)\n",
    "    \n",
    "for day in range(historyDays):\n",
    "    index = 0\n",
    "    cm_measurement_requests = []\n",
    "    print('Loading day', day + 1)\n",
    "    \n",
    "    for hour in range(24):\n",
    "        score_time = datetime.utcnow() + timedelta(hours=(-(24*day + hour + 1)))\n",
    "        score_time = score_time.isoformat() + \"Z\"\n",
    "\n",
    "        metric = records[index]['metrics']\n",
    "        source = records[index]['sources']\n",
    "\n",
    "        \n",
    "        measurement_request = {\"timestamp\": score_time, \"metrics\": [metric], \"sources\": [source]}\n",
    "        cm_measurement_requests.append(measurement_request)\n",
    "\n",
    "        index+=1\n",
    "\n",
    "    response = wos_client.monitor_instances.measurements.add(monitor_instance_id=quality_monitor_instance_id, monitor_measurement_request=cm_measurement_requests).result    \n",
    "\n",
    "print('Finished')"
   ]
  },
  {
   "cell_type": "markdown",
   "metadata": {},
   "source": [
    "## Insert historical performance metrics"
   ]
  },
  {
   "cell_type": "code",
   "execution_count": null,
   "metadata": {},
   "outputs": [],
   "source": [
    "target = Target(\n",
    "        target_type=TargetTypes.INSTANCE,\n",
    "        target_id=payload_data_set_id\n",
    "    )\n",
    "\n",
    "\n",
    "performance_monitor_instance_details = wos_client.monitor_instances.create(\n",
    "            data_mart_id=data_mart_id,\n",
    "            background_mode=False,\n",
    "            monitor_definition_id=wos_client.monitor_definitions.MONITORS.PERFORMANCE.ID,\n",
    "            target=target\n",
    ").result\n",
    "performance_monitor_instance_id = performance_monitor_instance_details.metadata.id"
   ]
  },
  {
   "cell_type": "code",
   "execution_count": null,
   "metadata": {},
   "outputs": [],
   "source": [
    "for day in range(historyDays):\n",
    "    performance_measurement_requests = []\n",
    "    print('Loading day', day + 1)\n",
    "    for hour in range(24):\n",
    "        score_time = datetime.utcnow() + timedelta(hours=(-(24*day + hour + 1)))\n",
    "        score_time = score_time.isoformat() + \"Z\"\n",
    "        score_count = random.randint(60, 600)\n",
    "        \n",
    "        metric = {\"record_count\": score_count, \"data_set_type\": \"scoring_payload\"}\n",
    "        \n",
    "        measurement_request = {\"timestamp\": score_time, \"metrics\": [metric]}\n",
    "        performance_measurement_requests.append(measurement_request)\n",
    "        \n",
    "    response = wos_client.monitor_instances.measurements.add(\n",
    "                                            monitor_instance_id=performance_monitor_instance_id,\n",
    "                                            monitor_measurement_request=performance_measurement_requests).result    \n",
    "\n",
    "print('Finished')"
   ]
  },
  {
   "cell_type": "markdown",
   "metadata": {},
   "source": [
    "## Insert historical drift measurements"
   ]
  },
  {
   "cell_type": "code",
   "execution_count": null,
   "metadata": {},
   "outputs": [],
   "source": [
    "!rm history_drift_measurement_*.json\n",
    "with io.capture_output() as captured_0:\n",
    "    !wget https://raw.githubusercontent.com/IBM/watson-openscale-samples/main/IBM%20Cloud/WML/assets/data/historical_data/credit_risk/history_drift_measurement_0.json\n",
    "    !wget https://raw.githubusercontent.com/IBM/watson-openscale-samples/main/IBM%20Cloud/WML/assets/data/historical_data/credit_risk/history_drift_measurement_1.json\n",
    "    !wget https://raw.githubusercontent.com/IBM/watson-openscale-samples/main/IBM%20Cloud/WML/assets/data/historical_data/credit_risk/history_drift_measurement_2.json\n",
    "    !wget https://raw.githubusercontent.com/IBM/watson-openscale-samples/main/IBM%20Cloud/WML/assets/data/historical_data/credit_risk/history_drift_measurement_3.json\n",
    "    !wget https://raw.githubusercontent.com/IBM/watson-openscale-samples/main/IBM%20Cloud/WML/assets/data/historical_data/credit_risk/history_drift_measurement_4.json\n",
    "    !wget https://raw.githubusercontent.com/IBM/watson-openscale-samples/main/IBM%20Cloud/WML/assets/data/historical_data/credit_risk/history_drift_measurement_5.json\n",
    "    !wget https://raw.githubusercontent.com/IBM/watson-openscale-samples/main/IBM%20Cloud/WML/assets/data/historical_data/credit_risk/history_drift_measurement_6.json\n",
    "!ls -lh history_drift_measurement_*.json"
   ]
  },
  {
   "cell_type": "code",
   "execution_count": null,
   "metadata": {},
   "outputs": [],
   "source": [
    "for day in range(historyDays):\n",
    "    drift_measurements = []\n",
    "\n",
    "    with open(\"history_drift_measurement_{}.json\".format(day), 'r') as history_file:\n",
    "        drift_daily_measurements = json.load(history_file)\n",
    "    print('Loading day', day + 1)\n",
    "\n",
    "    #Historical data contains 8 records per day - each represents 3 hour drift window.\n",
    "    \n",
    "    for nb_window, records in enumerate(drift_daily_measurements):\n",
    "        for record in records:\n",
    "            window_start =  datetime.utcnow() + timedelta(hours=(-(24 * day + (nb_window+1)*3 + 1))) # first_payload_record_timestamp_in_window (oldest)\n",
    "            window_end = datetime.utcnow() + timedelta(hours=(-(24 * day + nb_window*3 + 1)))# last_payload_record_timestamp_in_window (most recent)\n",
    "            #modify start and end time for each record\n",
    "            record['sources'][0]['data']['start'] = window_start.isoformat() + \"Z\"\n",
    "            record['sources'][0]['data']['end'] = window_end.isoformat() + \"Z\"\n",
    "            \n",
    "            \n",
    "            metric = record['metrics'][0]\n",
    "            source = record['sources'][0]\n",
    "\n",
    "            measurement_request = {\"timestamp\": window_start.isoformat() + \"Z\", \"metrics\": [metric], \"sources\": [source]}\n",
    "            \n",
    "            drift_measurements.append(measurement_request)\n",
    "        \n",
    "    response = wos_client.monitor_instances.measurements.add(\n",
    "                                            monitor_instance_id=drift_monitor_instance_id,\n",
    "                                            monitor_measurement_request=drift_measurements).result    \n",
    "\n",
    "    \n",
    "    print(\"Daily loading finished.\")"
   ]
  },
  {
   "cell_type": "code",
   "execution_count": null,
   "metadata": {
    "scrolled": true,
    "tags": []
   },
   "outputs": [],
   "source": [
    "print('Datamart:', data_mart_id)\n",
    "print('Model:', model_uid)\n",
    "print('Deployment:', deployment_uid)"
   ]
  },
  {
   "cell_type": "markdown",
   "metadata": {},
   "source": [
    "## Congratulations!\n",
    "\n",
    "You have finished the hands-on lab for IBM Watson OpenScale. You can now view the [OpenScale Dashboard](https://aiopenscale.cloud.ibm.com/). Click on the tile for the German Credit model to see fairness, accuracy, and performance monitors. Click on the timeseries graph to get detailed information on transactions during a specific time window.\n",
    "\n",
    "## Next steps\n",
    "\n",
    "OpenScale shows model performance over time. You have two options to keep data flowing to your OpenScale graphs:\n",
    "  * Download, configure and schedule the [model feed notebook](https://raw.githubusercontent.com/emartensibm/german-credit/master/german_credit_scoring_feed.ipynb). This notebook can be set up with your WML credentials, and scheduled to provide a consistent flow of scoring requests to your model, which will appear in your OpenScale monitors.\n",
    "  * Re-run this notebook. Running this notebook from the beginning will delete and re-create the model and deployment, and re-create the historical data. Please note that the payload and measurement logs for the previous deployment will continue to be stored in your datamart, and can be deleted if necessary."
   ]
  }
 ],
 "metadata": {
  "kernelspec": {
   "display_name": "Python 3 (ipykernel)",
   "language": "python",
   "name": "python3"
  },
  "language_info": {
   "codemirror_mode": {
    "name": "ipython",
    "version": 3
   },
   "file_extension": ".py",
   "mimetype": "text/x-python",
   "name": "python",
   "nbconvert_exporter": "python",
   "pygments_lexer": "ipython3",
   "version": "3.11.8"
  },
  "varInspector": {
   "cols": {
    "lenName": 16,
    "lenType": 16,
    "lenVar": 40
   },
   "kernels_config": {
    "python": {
     "delete_cmd_postfix": "",
     "delete_cmd_prefix": "del ",
     "library": "var_list.py",
     "varRefreshCmd": "print(var_dic_list())"
    },
    "r": {
     "delete_cmd_postfix": ") ",
     "delete_cmd_prefix": "rm(",
     "library": "var_list.r",
     "varRefreshCmd": "cat(var_dic_list()) "
    }
   },
   "types_to_exclude": [
    "module",
    "function",
    "builtin_function_or_method",
    "instance",
    "_Feature"
   ],
   "window_display": false
  }
 },
 "nbformat": 4,
 "nbformat_minor": 4
}
